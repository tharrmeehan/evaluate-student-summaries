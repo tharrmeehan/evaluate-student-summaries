{
 "cells": [
  {
   "cell_type": "markdown",
   "metadata": {},
   "source": [
    "# Running Transformers\n",
    "This Notebook serves to run our fine-tuned transformer models.\n",
    "All models can be found under models/."
   ]
  },
  {
   "cell_type": "markdown",
   "metadata": {},
   "source": [
    "## Imports and libraries"
   ]
  },
  {
   "cell_type": "code",
   "execution_count": 1,
   "metadata": {},
   "outputs": [],
   "source": [
    "from transformers import AutoModelForSequenceClassification\n",
    "import numpy as np\n",
    "import pandas as pd\n",
    "import torch\n",
    "import os\n",
    "\n",
    "from tqdm import tqdm\n",
    "from transformers import AutoTokenizer\n",
    "from datasets import Dataset"
   ]
  },
  {
   "cell_type": "markdown",
   "metadata": {},
   "source": [
    "Below is our train data merged with prompts"
   ]
  },
  {
   "cell_type": "code",
   "execution_count": 2,
   "metadata": {},
   "outputs": [
    {
     "data": {
      "text/html": [
       "<div>\n",
       "<style scoped>\n",
       "    .dataframe tbody tr th:only-of-type {\n",
       "        vertical-align: middle;\n",
       "    }\n",
       "\n",
       "    .dataframe tbody tr th {\n",
       "        vertical-align: top;\n",
       "    }\n",
       "\n",
       "    .dataframe thead th {\n",
       "        text-align: right;\n",
       "    }\n",
       "</style>\n",
       "<table border=\"1\" class=\"dataframe\">\n",
       "  <thead>\n",
       "    <tr style=\"text-align: right;\">\n",
       "      <th></th>\n",
       "      <th>student_id</th>\n",
       "      <th>prompt_id</th>\n",
       "      <th>text</th>\n",
       "      <th>content</th>\n",
       "      <th>wording</th>\n",
       "      <th>prompt_question</th>\n",
       "      <th>prompt_title</th>\n",
       "      <th>prompt_text</th>\n",
       "    </tr>\n",
       "  </thead>\n",
       "  <tbody>\n",
       "    <tr>\n",
       "      <th>0</th>\n",
       "      <td>8a31b8cc1996</td>\n",
       "      <td>3b9047</td>\n",
       "      <td>In the social pyramid of ancient Egypt the pha...</td>\n",
       "      <td>-0.077267</td>\n",
       "      <td>0.424365</td>\n",
       "      <td>In complete sentences, summarize the structure...</td>\n",
       "      <td>Egyptian Social Structure</td>\n",
       "      <td>Egyptian society was structured like a pyramid...</td>\n",
       "    </tr>\n",
       "    <tr>\n",
       "      <th>1</th>\n",
       "      <td>4387107feb4d</td>\n",
       "      <td>3b9047</td>\n",
       "      <td>The ancient Egyptian system of government was ...</td>\n",
       "      <td>1.376083</td>\n",
       "      <td>2.389443</td>\n",
       "      <td>In complete sentences, summarize the structure...</td>\n",
       "      <td>Egyptian Social Structure</td>\n",
       "      <td>Egyptian society was structured like a pyramid...</td>\n",
       "    </tr>\n",
       "    <tr>\n",
       "      <th>2</th>\n",
       "      <td>3b784d0a5c8f</td>\n",
       "      <td>3b9047</td>\n",
       "      <td>Nobles were the only ont that could hold gover...</td>\n",
       "      <td>0.467722</td>\n",
       "      <td>-0.085653</td>\n",
       "      <td>In complete sentences, summarize the structure...</td>\n",
       "      <td>Egyptian Social Structure</td>\n",
       "      <td>Egyptian society was structured like a pyramid...</td>\n",
       "    </tr>\n",
       "    <tr>\n",
       "      <th>3</th>\n",
       "      <td>1b2ff4d4edd9</td>\n",
       "      <td>3b9047</td>\n",
       "      <td>They were many different social classes. The p...</td>\n",
       "      <td>-0.012957</td>\n",
       "      <td>-0.409480</td>\n",
       "      <td>In complete sentences, summarize the structure...</td>\n",
       "      <td>Egyptian Social Structure</td>\n",
       "      <td>Egyptian society was structured like a pyramid...</td>\n",
       "    </tr>\n",
       "    <tr>\n",
       "      <th>4</th>\n",
       "      <td>108049c01946</td>\n",
       "      <td>3b9047</td>\n",
       "      <td>The ancient Egyptian system of goverment is in...</td>\n",
       "      <td>2.204640</td>\n",
       "      <td>-0.645344</td>\n",
       "      <td>In complete sentences, summarize the structure...</td>\n",
       "      <td>Egyptian Social Structure</td>\n",
       "      <td>Egyptian society was structured like a pyramid...</td>\n",
       "    </tr>\n",
       "  </tbody>\n",
       "</table>\n",
       "</div>"
      ],
      "text/plain": [
       "     student_id prompt_id                                               text  \\\n",
       "0  8a31b8cc1996    3b9047  In the social pyramid of ancient Egypt the pha...   \n",
       "1  4387107feb4d    3b9047  The ancient Egyptian system of government was ...   \n",
       "2  3b784d0a5c8f    3b9047  Nobles were the only ont that could hold gover...   \n",
       "3  1b2ff4d4edd9    3b9047  They were many different social classes. The p...   \n",
       "4  108049c01946    3b9047  The ancient Egyptian system of goverment is in...   \n",
       "\n",
       "    content   wording                                    prompt_question  \\\n",
       "0 -0.077267  0.424365  In complete sentences, summarize the structure...   \n",
       "1  1.376083  2.389443  In complete sentences, summarize the structure...   \n",
       "2  0.467722 -0.085653  In complete sentences, summarize the structure...   \n",
       "3 -0.012957 -0.409480  In complete sentences, summarize the structure...   \n",
       "4  2.204640 -0.645344  In complete sentences, summarize the structure...   \n",
       "\n",
       "                prompt_title  \\\n",
       "0  Egyptian Social Structure   \n",
       "1  Egyptian Social Structure   \n",
       "2  Egyptian Social Structure   \n",
       "3  Egyptian Social Structure   \n",
       "4  Egyptian Social Structure   \n",
       "\n",
       "                                         prompt_text  \n",
       "0  Egyptian society was structured like a pyramid...  \n",
       "1  Egyptian society was structured like a pyramid...  \n",
       "2  Egyptian society was structured like a pyramid...  \n",
       "3  Egyptian society was structured like a pyramid...  \n",
       "4  Egyptian society was structured like a pyramid...  "
      ]
     },
     "execution_count": 2,
     "metadata": {},
     "output_type": "execute_result"
    }
   ],
   "source": [
    "data = pd.read_csv('./data/merged.csv')\n",
    "data.head()\n"
   ]
  },
  {
   "cell_type": "markdown",
   "metadata": {},
   "source": [
    "## Selecting a transformer and tokenizer\n",
    "Inside models you have to choose the transformer and then the checkpoint to initialize it\n",
    "\n",
    "Make sure to also select the fitting tokenizer as well."
   ]
  },
  {
   "cell_type": "code",
   "execution_count": 3,
   "metadata": {},
   "outputs": [
    {
     "data": {
      "application/vnd.jupyter.widget-view+json": {
       "model_id": "d7e747d75953415da9c895b61db68a7a",
       "version_major": 2,
       "version_minor": 0
      },
      "text/plain": [
       "Downloading tokenizer_config.json:   0%|          | 0.00/52.0 [00:00<?, ?B/s]"
      ]
     },
     "metadata": {},
     "output_type": "display_data"
    },
    {
     "data": {
      "application/vnd.jupyter.widget-view+json": {
       "model_id": "4a8e3a79557347a0b765bc8bb2010938",
       "version_major": 2,
       "version_minor": 0
      },
      "text/plain": [
       "Downloading config.json:   0%|          | 0.00/579 [00:00<?, ?B/s]"
      ]
     },
     "metadata": {},
     "output_type": "display_data"
    },
    {
     "data": {
      "application/vnd.jupyter.widget-view+json": {
       "model_id": "db9bea5b08e14ead87e4952c17bdb40b",
       "version_major": 2,
       "version_minor": 0
      },
      "text/plain": [
       "Downloading spm.model:   0%|          | 0.00/2.46M [00:00<?, ?B/s]"
      ]
     },
     "metadata": {},
     "output_type": "display_data"
    },
    {
     "name": "stderr",
     "output_type": "stream",
     "text": [
      "/home/jonathancarona/anaconda3/envs/AICH/lib/python3.11/site-packages/transformers/convert_slow_tokenizer.py:473: UserWarning: The sentencepiece tokenizer that you are converting to a fast tokenizer uses the byte fallback option which is not implemented in the fast tokenizers. In practice this means that the fast version of the tokenizer can produce unknown tokens whereas the sentencepiece version would have converted these unknown tokens into a sequence of byte tokens matching the original piece of text.\n",
      "  warnings.warn(\n"
     ]
    }
   ],
   "source": [
    "# Replace the path for the transformer and tokenizer you want to run\n",
    "#TRANSFORMER_PATH = './models/deberta-v3-large-epoch-3/checkpoint-1504'\n",
    "TRANSFORMER_PATH = './models/deberta-v3-base/deberta-v3-base/checkpoint-4012'\n",
    "#TOKENIZER_PATH = 'microsoft/deberta-v3-large'\n",
    "TOKENIZER_PATH = 'microsoft/deberta-v3-base'\n",
    "MAX_LENGTH = 1024\n",
    "\n",
    "\n",
    "transformer = AutoModelForSequenceClassification.from_pretrained(TRANSFORMER_PATH, num_labels=2)\n",
    "tokenizer = AutoTokenizer.from_pretrained(TOKENIZER_PATH)\n"
   ]
  },
  {
   "cell_type": "markdown",
   "metadata": {},
   "source": [
    "## Tokenize a single data point\n"
   ]
  },
  {
   "cell_type": "code",
   "execution_count": 4,
   "metadata": {},
   "outputs": [
    {
     "name": "stdout",
     "output_type": "stream",
     "text": [
      "{'input_ids': tensor([[    1, 38081,   262,  ...,     0,     0,     0]]), 'token_type_ids': tensor([[0, 0, 0,  ..., 0, 0, 0]]), 'attention_mask': tensor([[1, 1, 1,  ..., 0, 0, 0]])}\n"
     ]
    }
   ],
   "source": [
    "def tokenize_encode(text, prompt_question, prompt_text):\n",
    "    prompt = f'Evaluate the content and wording score of this summary: {tokenizer.sep_token} {text} {tokenizer.sep_token} The summary must answer the following prompt: {prompt_question} {tokenizer.sep_token} The prompt is related towards the following original text: {prompt_text}'\n",
    "\n",
    "    encoded = tokenizer(\n",
    "        prompt, \n",
    "        truncation=True, \n",
    "        padding=\"max_length\", \n",
    "        # Adjust max length to fitted model\n",
    "        max_length=MAX_LENGTH,\n",
    "        return_tensors='pt'\n",
    "    )\n",
    "\n",
    "    return encoded\n",
    "\n",
    "# Replace with summary text\n",
    "text = data.text[0]\n",
    "# Replace with prompt_question\n",
    "prompt_question = data.prompt_question[0]\n",
    "# Replace with prompt_text\n",
    "prompt_text = data.prompt_text[0]\n",
    "\n",
    "print(tokenize_encode(text, prompt_question, prompt_text))"
   ]
  },
  {
   "cell_type": "markdown",
   "metadata": {},
   "source": [
    "## Running the transformer for a single data point"
   ]
  },
  {
   "cell_type": "code",
   "execution_count": 5,
   "metadata": {},
   "outputs": [
    {
     "data": {
      "text/plain": [
       "[0.10300207883119583, 0.34845003485679626]"
      ]
     },
     "execution_count": 5,
     "metadata": {},
     "output_type": "execute_result"
    }
   ],
   "source": [
    "output = transformer(**tokenize_encode(text, prompt_question, prompt_text))\n",
    "output.logits.reshape(-1).tolist()"
   ]
  },
  {
   "cell_type": "markdown",
   "metadata": {},
   "source": [
    "## Running the transformer on pandas frame\n",
    "Adapt the code for your needs"
   ]
  },
  {
   "cell_type": "code",
   "execution_count": 7,
   "metadata": {},
   "outputs": [
    {
     "name": "stderr",
     "output_type": "stream",
     "text": [
      "100%|██████████| 5/5 [00:12<00:00,  2.58s/it]\n"
     ]
    },
    {
     "data": {
      "text/html": [
       "<div>\n",
       "<style scoped>\n",
       "    .dataframe tbody tr th:only-of-type {\n",
       "        vertical-align: middle;\n",
       "    }\n",
       "\n",
       "    .dataframe tbody tr th {\n",
       "        vertical-align: top;\n",
       "    }\n",
       "\n",
       "    .dataframe thead th {\n",
       "        text-align: right;\n",
       "    }\n",
       "</style>\n",
       "<table border=\"1\" class=\"dataframe\">\n",
       "  <thead>\n",
       "    <tr style=\"text-align: right;\">\n",
       "      <th></th>\n",
       "      <th>content</th>\n",
       "      <th>wording</th>\n",
       "    </tr>\n",
       "  </thead>\n",
       "  <tbody>\n",
       "    <tr>\n",
       "      <th>0</th>\n",
       "      <td>0.103002</td>\n",
       "      <td>0.348450</td>\n",
       "    </tr>\n",
       "    <tr>\n",
       "      <th>1</th>\n",
       "      <td>1.332854</td>\n",
       "      <td>1.272060</td>\n",
       "    </tr>\n",
       "    <tr>\n",
       "      <th>2</th>\n",
       "      <td>0.460646</td>\n",
       "      <td>-0.344012</td>\n",
       "    </tr>\n",
       "    <tr>\n",
       "      <th>3</th>\n",
       "      <td>-0.159789</td>\n",
       "      <td>-0.498712</td>\n",
       "    </tr>\n",
       "    <tr>\n",
       "      <th>4</th>\n",
       "      <td>1.436758</td>\n",
       "      <td>-0.587502</td>\n",
       "    </tr>\n",
       "  </tbody>\n",
       "</table>\n",
       "</div>"
      ],
      "text/plain": [
       "    content   wording\n",
       "0  0.103002  0.348450\n",
       "1  1.332854  1.272060\n",
       "2  0.460646 -0.344012\n",
       "3 -0.159789 -0.498712\n",
       "4  1.436758 -0.587502"
      ]
     },
     "execution_count": 7,
     "metadata": {},
     "output_type": "execute_result"
    }
   ],
   "source": [
    "content_preds = []\n",
    "wording_preds = []\n",
    "\n",
    "# Replace data for your own data. Here we use the first 5 rows from the merged.csv\n",
    "for index, row in tqdm(data[:5].iterrows(), total=data[:5].shape[0]):\n",
    "    inputs = tokenize_encode(row.text, row.prompt_question, row.prompt_text)\n",
    "    # Content predicting\n",
    "    outputs = transformer(**inputs).logits.reshape(-1).tolist()\n",
    "    \n",
    "    content_preds.append(outputs[0])\n",
    "    wording_preds.append(outputs[1])\n",
    "\n",
    "submission_df = pd.DataFrame({'content': content_preds, 'wording': wording_preds})\n",
    "submission_df.head()"
   ]
  }
 ],
 "metadata": {
  "kernelspec": {
   "display_name": "AICH",
   "language": "python",
   "name": "python3"
  },
  "language_info": {
   "codemirror_mode": {
    "name": "ipython",
    "version": 3
   },
   "file_extension": ".py",
   "mimetype": "text/x-python",
   "name": "python",
   "nbconvert_exporter": "python",
   "pygments_lexer": "ipython3",
   "version": "3.11.5"
  },
  "orig_nbformat": 4
 },
 "nbformat": 4,
 "nbformat_minor": 2
}
