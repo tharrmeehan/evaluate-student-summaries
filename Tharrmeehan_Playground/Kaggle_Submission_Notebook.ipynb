{
 "cells": [
  {
   "cell_type": "code",
   "execution_count": 2,
   "id": "3df24901",
   "metadata": {
    "_cell_guid": "b1076dfc-b9ad-4769-8c92-a6c4dae69d19",
    "_uuid": "8f2839f25d086af736a60e9eeb907d3b93b6e0e5",
    "execution": {
     "iopub.execute_input": "2023-11-02T13:45:20.620950Z",
     "iopub.status.busy": "2023-11-02T13:45:20.620479Z",
     "iopub.status.idle": "2023-11-02T13:45:36.740191Z",
     "shell.execute_reply": "2023-11-02T13:45:36.738708Z"
    },
    "papermill": {
     "duration": 16.13236,
     "end_time": "2023-11-02T13:45:36.743305",
     "exception": false,
     "start_time": "2023-11-02T13:45:20.610945",
     "status": "completed"
    },
    "tags": [],
    "ExecuteTime": {
     "end_time": "2023-11-08T16:26:14.616153500Z",
     "start_time": "2023-11-08T16:26:08.745101300Z"
    }
   },
   "outputs": [
    {
     "name": "stdout",
     "output_type": "stream",
     "text": [
      "Looking in links: file:///kaggle/input/external/\n",
      "Requirement already satisfied: textstat in c:\\users\\tharrmeehan\\.conda\\envs\\data_science_personal\\lib\\site-packages (0.7.3)\n",
      "Requirement already satisfied: rouge in c:\\users\\tharrmeehan\\.conda\\envs\\data_science_personal\\lib\\site-packages (1.0.1)\n",
      "Requirement already satisfied: pyphen in c:\\users\\tharrmeehan\\.conda\\envs\\data_science_personal\\lib\\site-packages (0.14.0)\n",
      "Requirement already satisfied: six in c:\\users\\tharrmeehan\\appdata\\roaming\\python\\python310\\site-packages (from rouge) (1.16.0)\n"
     ]
    }
   ],
   "source": [
    "import os\n",
    "os.environ[\"TOKENIZERS_PARALLELISM\"] = \"false\"\n",
    "!pip install textstat rouge pyphen --no-index --find-links=file:///kaggle/input/external/ "
   ]
  },
  {
   "cell_type": "code",
   "execution_count": 3,
   "id": "9dd8c970",
   "metadata": {
    "execution": {
     "iopub.execute_input": "2023-11-02T13:45:36.761351Z",
     "iopub.status.busy": "2023-11-02T13:45:36.759988Z",
     "iopub.status.idle": "2023-11-02T13:45:41.793851Z",
     "shell.execute_reply": "2023-11-02T13:45:41.792809Z"
    },
    "papermill": {
     "duration": 5.045731,
     "end_time": "2023-11-02T13:45:41.796605",
     "exception": false,
     "start_time": "2023-11-02T13:45:36.750874",
     "status": "completed"
    },
    "tags": [],
    "ExecuteTime": {
     "end_time": "2023-11-08T16:26:14.661102200Z",
     "start_time": "2023-11-08T16:26:14.618099200Z"
    }
   },
   "outputs": [],
   "source": [
    "import pandas as pd\n",
    "import numpy as np\n",
    "from sklearn.model_selection import train_test_split\n",
    "\n",
    "# progressbar\n",
    "from tqdm.notebook import tqdm\n",
    "\n",
    "# preprocessing\n",
    "from nltk.corpus import stopwords\n",
    "from string import punctuation\n",
    "from transformers import AutoTokenizer\n",
    "from textstat import textstat"
   ]
  },
  {
   "cell_type": "code",
   "execution_count": 5,
   "id": "a30c9940",
   "metadata": {
    "execution": {
     "iopub.execute_input": "2023-11-02T13:45:41.813931Z",
     "iopub.status.busy": "2023-11-02T13:45:41.812637Z",
     "iopub.status.idle": "2023-11-02T13:45:41.972938Z",
     "shell.execute_reply": "2023-11-02T13:45:41.971638Z"
    },
    "papermill": {
     "duration": 0.171975,
     "end_time": "2023-11-02T13:45:41.976022",
     "exception": false,
     "start_time": "2023-11-02T13:45:41.804047",
     "status": "completed"
    },
    "tags": [],
    "ExecuteTime": {
     "end_time": "2023-11-08T16:27:21.028633100Z",
     "start_time": "2023-11-08T16:27:20.947646500Z"
    }
   },
   "outputs": [],
   "source": [
    "prompts_test = pd.read_csv(\"data/prompts_test.csv\")\n",
    "summaries_test = pd.read_csv(\"data/summaries_test.csv\")\n",
    "\n",
    "summaries_train = pd.read_csv(\"data/summaries_train.csv\")\n",
    "prompts_train = pd.read_csv(\"data/prompts_train.csv\")"
   ]
  },
  {
   "cell_type": "markdown",
   "id": "2468dca7",
   "metadata": {
    "papermill": {
     "duration": 0.006729,
     "end_time": "2023-11-02T13:45:41.989989",
     "exception": false,
     "start_time": "2023-11-02T13:45:41.983260",
     "status": "completed"
    },
    "tags": []
   },
   "source": [
    "## Tokenization etc."
   ]
  },
  {
   "cell_type": "code",
   "execution_count": 6,
   "outputs": [],
   "source": [
    "PATH = \"/kaggle/input/\""
   ],
   "metadata": {
    "collapsed": false,
    "ExecuteTime": {
     "end_time": "2023-11-08T16:27:31.753102Z",
     "start_time": "2023-11-08T16:27:31.741055800Z"
    }
   },
   "id": "83d68bf5c53ebffe"
  },
  {
   "cell_type": "code",
   "execution_count": 7,
   "id": "3813ec3a",
   "metadata": {
    "execution": {
     "iopub.execute_input": "2023-11-02T13:45:42.006467Z",
     "iopub.status.busy": "2023-11-02T13:45:42.005958Z",
     "iopub.status.idle": "2023-11-02T13:45:42.119649Z",
     "shell.execute_reply": "2023-11-02T13:45:42.118480Z"
    },
    "papermill": {
     "duration": 0.12531,
     "end_time": "2023-11-02T13:45:42.122654",
     "exception": false,
     "start_time": "2023-11-02T13:45:41.997344",
     "status": "completed"
    },
    "tags": [],
    "ExecuteTime": {
     "end_time": "2023-11-08T16:28:34.447584Z",
     "start_time": "2023-11-08T16:28:33.720581100Z"
    }
   },
   "outputs": [],
   "source": [
    "model_ckpt = \"distilbert-base-uncased\"\n",
    "tokenizer = AutoTokenizer.from_pretrained(model_ckpt)\n",
    "\n",
    "stopwords_list = set(stopwords.words(\"english\"))\n",
    "punctuation = list(punctuation)"
   ]
  },
  {
   "cell_type": "markdown",
   "id": "06b7a64f",
   "metadata": {
    "papermill": {
     "duration": 0.006849,
     "end_time": "2023-11-02T13:45:42.136826",
     "exception": false,
     "start_time": "2023-11-02T13:45:42.129977",
     "status": "completed"
    },
    "tags": []
   },
   "source": [
    "## Feature Engineering"
   ]
  },
  {
   "cell_type": "code",
   "execution_count": 8,
   "id": "37c6033e",
   "metadata": {
    "execution": {
     "iopub.execute_input": "2023-11-02T13:45:42.154283Z",
     "iopub.status.busy": "2023-11-02T13:45:42.153108Z",
     "iopub.status.idle": "2023-11-02T13:45:42.191393Z",
     "shell.execute_reply": "2023-11-02T13:45:42.190291Z"
    },
    "papermill": {
     "duration": 0.049418,
     "end_time": "2023-11-02T13:45:42.194102",
     "exception": false,
     "start_time": "2023-11-02T13:45:42.144684",
     "status": "completed"
    },
    "tags": [],
    "ExecuteTime": {
     "end_time": "2023-11-08T16:28:35.790580800Z",
     "start_time": "2023-11-08T16:28:35.772583500Z"
    }
   },
   "outputs": [],
   "source": [
    "merged_train = summaries_train.merge(prompts_train, on=\"prompt_id\", how=\"inner\")\n",
    "merged_test = summaries_test.merge(prompts_test, on=\"prompt_id\", how=\"inner\")"
   ]
  },
  {
   "cell_type": "code",
   "execution_count": 9,
   "id": "e3e5616e",
   "metadata": {
    "execution": {
     "iopub.execute_input": "2023-11-02T13:45:42.210932Z",
     "iopub.status.busy": "2023-11-02T13:45:42.210062Z",
     "iopub.status.idle": "2023-11-02T13:45:42.216977Z",
     "shell.execute_reply": "2023-11-02T13:45:42.216086Z"
    },
    "papermill": {
     "duration": 0.017735,
     "end_time": "2023-11-02T13:45:42.219376",
     "exception": false,
     "start_time": "2023-11-02T13:45:42.201641",
     "status": "completed"
    },
    "tags": [],
    "ExecuteTime": {
     "end_time": "2023-11-08T16:28:36.629629100Z",
     "start_time": "2023-11-08T16:28:36.606585200Z"
    }
   },
   "outputs": [],
   "source": [
    "def word_overlap_count(row):\n",
    "    \"\"\"intersection(prompt_text, text)\"\"\"\n",
    "\n",
    "    def check_is_stop_word(word):\n",
    "        return word in stopwords_list\n",
    "\n",
    "    prompt_words = row[\"prompt_tokens\"]\n",
    "    summary_words = row[\"summary_tokens\"]\n",
    "\n",
    "    if stopwords_list:\n",
    "        prompt_words = list(filter(check_is_stop_word, prompt_words))\n",
    "        summary_words = list(filter(check_is_stop_word, summary_words))\n",
    "    return len(set(prompt_words).intersection(set(summary_words)))"
   ]
  },
  {
   "cell_type": "code",
   "execution_count": 10,
   "id": "d722a03a",
   "metadata": {
    "execution": {
     "iopub.execute_input": "2023-11-02T13:45:42.235104Z",
     "iopub.status.busy": "2023-11-02T13:45:42.234693Z",
     "iopub.status.idle": "2023-11-02T13:45:42.240539Z",
     "shell.execute_reply": "2023-11-02T13:45:42.239381Z"
    },
    "papermill": {
     "duration": 0.016608,
     "end_time": "2023-11-02T13:45:42.243013",
     "exception": false,
     "start_time": "2023-11-02T13:45:42.226405",
     "status": "completed"
    },
    "tags": [],
    "ExecuteTime": {
     "end_time": "2023-11-08T16:28:37.066629500Z",
     "start_time": "2023-11-08T16:28:37.043582200Z"
    }
   },
   "outputs": [],
   "source": [
    "def compute_mcrmse(eval_pred):\n",
    "    \"\"\"\n",
    "    Calculates mean columnwise root mean squared error\n",
    "    https://www.kaggle.com/competitions/commonlit-evaluate-student-summaries/overview/evaluation\n",
    "    \"\"\"\n",
    "    preds, labels = eval_pred\n",
    "\n",
    "    col_rmse = np.sqrt(np.mean((preds - labels) ** 2, axis=0))\n",
    "    mcrmse = np.mean(col_rmse)\n",
    "\n",
    "    return {\n",
    "        \"content_rmse\": col_rmse[0],\n",
    "        \"wording_rmse\": col_rmse[1],\n",
    "        \"mcrmse\": mcrmse,\n",
    "    }"
   ]
  },
  {
   "cell_type": "code",
   "execution_count": 11,
   "id": "720a13bf",
   "metadata": {
    "execution": {
     "iopub.execute_input": "2023-11-02T13:45:42.259177Z",
     "iopub.status.busy": "2023-11-02T13:45:42.258518Z",
     "iopub.status.idle": "2023-11-02T13:46:08.164079Z",
     "shell.execute_reply": "2023-11-02T13:46:08.163154Z"
    },
    "papermill": {
     "duration": 25.916559,
     "end_time": "2023-11-02T13:46:08.166594",
     "exception": false,
     "start_time": "2023-11-02T13:45:42.250035",
     "status": "completed"
    },
    "tags": [],
    "ExecuteTime": {
     "end_time": "2023-11-08T16:28:58.015607900Z",
     "start_time": "2023-11-08T16:28:37.979587Z"
    }
   },
   "outputs": [
    {
     "data": {
      "text/plain": "  0%|          | 0/7165 [00:00<?, ?it/s]",
      "application/vnd.jupyter.widget-view+json": {
       "version_major": 2,
       "version_minor": 0,
       "model_id": "9e2628a0fc694e9eaa41f2943900cd51"
      }
     },
     "metadata": {},
     "output_type": "display_data"
    },
    {
     "data": {
      "text/plain": "  0%|          | 0/7165 [00:00<?, ?it/s]",
      "application/vnd.jupyter.widget-view+json": {
       "version_major": 2,
       "version_minor": 0,
       "model_id": "7f401d6e9ffe4928abb7bc1456fac302"
      }
     },
     "metadata": {},
     "output_type": "display_data"
    },
    {
     "data": {
      "text/plain": "  0%|          | 0/4 [00:00<?, ?it/s]",
      "application/vnd.jupyter.widget-view+json": {
       "version_major": 2,
       "version_minor": 0,
       "model_id": "64c4afad07434b029a118d6d2e932970"
      }
     },
     "metadata": {},
     "output_type": "display_data"
    },
    {
     "data": {
      "text/plain": "  0%|          | 0/4 [00:00<?, ?it/s]",
      "application/vnd.jupyter.widget-view+json": {
       "version_major": 2,
       "version_minor": 0,
       "model_id": "875b81c1cac544cc89039a816338a04c"
      }
     },
     "metadata": {},
     "output_type": "display_data"
    }
   ],
   "source": [
    "def create_tokens(dataframe):\n",
    "    tqdm.pandas()\n",
    "    dataframe[\"summary_tokens\"] = dataframe[\"text\"].progress_apply(\n",
    "        lambda x: tokenizer.tokenize(x, truncation=True, padding=True, max_length=1024)\n",
    "    )\n",
    "\n",
    "    dataframe[\"prompt_tokens\"] = dataframe[\"prompt_text\"].progress_apply(\n",
    "        lambda x: tokenizer.tokenize(x, truncation=True, padding=True, max_length=1024)\n",
    "    )\n",
    "    \n",
    "create_tokens(merged_train)\n",
    "create_tokens(merged_test)"
   ]
  },
  {
   "cell_type": "code",
   "execution_count": 12,
   "id": "670a8f1f",
   "metadata": {
    "execution": {
     "iopub.execute_input": "2023-11-02T13:46:08.182571Z",
     "iopub.status.busy": "2023-11-02T13:46:08.181790Z",
     "iopub.status.idle": "2023-11-02T13:46:08.187309Z",
     "shell.execute_reply": "2023-11-02T13:46:08.186292Z"
    },
    "papermill": {
     "duration": 0.015567,
     "end_time": "2023-11-02T13:46:08.189311",
     "exception": false,
     "start_time": "2023-11-02T13:46:08.173744",
     "status": "completed"
    },
    "tags": [],
    "ExecuteTime": {
     "end_time": "2023-11-08T16:30:47.755131400Z",
     "start_time": "2023-11-08T16:30:47.698133800Z"
    }
   },
   "outputs": [],
   "source": [
    "def ngrams(token, n):\n",
    "        # Use the zip function to help us generate n-grams\n",
    "        # Concatentate the tokens into ngrams and return\n",
    "        ngrams = zip(*[token[i:] for i in range(n)])\n",
    "        return [\" \".join(ngram) for ngram in ngrams]\n"
   ]
  },
  {
   "cell_type": "code",
   "execution_count": 13,
   "id": "7cc2cdf5",
   "metadata": {
    "execution": {
     "iopub.execute_input": "2023-11-02T13:46:08.204636Z",
     "iopub.status.busy": "2023-11-02T13:46:08.204197Z",
     "iopub.status.idle": "2023-11-02T13:46:08.210337Z",
     "shell.execute_reply": "2023-11-02T13:46:08.209146Z"
    },
    "papermill": {
     "duration": 0.016388,
     "end_time": "2023-11-02T13:46:08.212504",
     "exception": false,
     "start_time": "2023-11-02T13:46:08.196116",
     "status": "completed"
    },
    "tags": [],
    "ExecuteTime": {
     "end_time": "2023-11-08T16:30:48.565133100Z",
     "start_time": "2023-11-08T16:30:48.548134700Z"
    }
   },
   "outputs": [],
   "source": [
    "def ngram_co_occurrence(row, n: int) -> int:\n",
    "    # Tokenize the original text and summary into words\n",
    "    original_tokens = row[\"prompt_tokens\"]\n",
    "    summary_tokens = row[\"summary_tokens\"]\n",
    "\n",
    "    # Generate n-grams for the original text and summary\n",
    "    original_ngrams = set(ngrams(original_tokens, n))\n",
    "    summary_ngrams = set(ngrams(summary_tokens, n))\n",
    "\n",
    "    # Calculate the number of common n-grams\n",
    "    common_ngrams = original_ngrams.intersection(summary_ngrams)\n",
    "\n",
    "    return len(common_ngrams)"
   ]
  },
  {
   "cell_type": "code",
   "execution_count": 14,
   "id": "469709b7",
   "metadata": {
    "execution": {
     "iopub.execute_input": "2023-11-02T13:46:08.229065Z",
     "iopub.status.busy": "2023-11-02T13:46:08.228337Z",
     "iopub.status.idle": "2023-11-02T13:46:08.241263Z",
     "shell.execute_reply": "2023-11-02T13:46:08.240397Z"
    },
    "papermill": {
     "duration": 0.02398,
     "end_time": "2023-11-02T13:46:08.243529",
     "exception": false,
     "start_time": "2023-11-02T13:46:08.219549",
     "status": "completed"
    },
    "tags": [],
    "ExecuteTime": {
     "end_time": "2023-11-08T16:30:49.402134200Z",
     "start_time": "2023-11-08T16:30:49.367132800Z"
    }
   },
   "outputs": [],
   "source": [
    "from rouge import Rouge\n",
    "\n",
    "rouge = Rouge()\n",
    "\n",
    "def get_rouge_1_score(row):\n",
    "    scores = rouge.get_scores(row[\"text\"], row[\"prompt_text\"])\n",
    "    return scores[0][\"rouge-1\"][\"f\"]\n",
    "\n",
    "def get_rouge_2_score(row):\n",
    "    scores = rouge.get_scores(row[\"text\"], row[\"prompt_text\"])\n",
    "    return scores[0][\"rouge-2\"][\"f\"]\n",
    "\n",
    "def get_rouge_l_score(row):\n",
    "    scores = rouge.get_scores(row[\"text\"], row[\"prompt_text\"])\n",
    "    return scores[0][\"rouge-l\"][\"f\"]"
   ]
  },
  {
   "cell_type": "code",
   "execution_count": 15,
   "id": "695e46ec",
   "metadata": {
    "execution": {
     "iopub.execute_input": "2023-11-02T13:46:08.258902Z",
     "iopub.status.busy": "2023-11-02T13:46:08.258253Z",
     "iopub.status.idle": "2023-11-02T14:04:49.622636Z",
     "shell.execute_reply": "2023-11-02T14:04:49.621514Z"
    },
    "papermill": {
     "duration": 1121.375434,
     "end_time": "2023-11-02T14:04:49.625766",
     "exception": false,
     "start_time": "2023-11-02T13:46:08.250332",
     "status": "completed"
    },
    "tags": [],
    "ExecuteTime": {
     "end_time": "2023-11-08T16:45:05.035309300Z",
     "start_time": "2023-11-08T16:30:52.337135Z"
    }
   },
   "outputs": [
    {
     "data": {
      "text/plain": "  0%|          | 0/7165 [00:00<?, ?it/s]",
      "application/vnd.jupyter.widget-view+json": {
       "version_major": 2,
       "version_minor": 0,
       "model_id": "018c1c7ec63a4d1685c4f40f5ec6d089"
      }
     },
     "metadata": {},
     "output_type": "display_data"
    },
    {
     "data": {
      "text/plain": "  0%|          | 0/7165 [00:00<?, ?it/s]",
      "application/vnd.jupyter.widget-view+json": {
       "version_major": 2,
       "version_minor": 0,
       "model_id": "73adfb81de444ccb8a493c9613679c0d"
      }
     },
     "metadata": {},
     "output_type": "display_data"
    },
    {
     "data": {
      "text/plain": "  0%|          | 0/7165 [00:00<?, ?it/s]",
      "application/vnd.jupyter.widget-view+json": {
       "version_major": 2,
       "version_minor": 0,
       "model_id": "7a7e36300e6841ed83d83f0797a7c81b"
      }
     },
     "metadata": {},
     "output_type": "display_data"
    },
    {
     "data": {
      "text/plain": "  0%|          | 0/7165 [00:00<?, ?it/s]",
      "application/vnd.jupyter.widget-view+json": {
       "version_major": 2,
       "version_minor": 0,
       "model_id": "1933cbd9af0c47ae8dbe43923798d4f7"
      }
     },
     "metadata": {},
     "output_type": "display_data"
    },
    {
     "data": {
      "text/plain": "  0%|          | 0/7165 [00:00<?, ?it/s]",
      "application/vnd.jupyter.widget-view+json": {
       "version_major": 2,
       "version_minor": 0,
       "model_id": "6cd5acd6f6554208ab33cd84767676a3"
      }
     },
     "metadata": {},
     "output_type": "display_data"
    },
    {
     "data": {
      "text/plain": "  0%|          | 0/7165 [00:00<?, ?it/s]",
      "application/vnd.jupyter.widget-view+json": {
       "version_major": 2,
       "version_minor": 0,
       "model_id": "27b4834ef31e4d3d80fcf21e00102d8f"
      }
     },
     "metadata": {},
     "output_type": "display_data"
    },
    {
     "data": {
      "text/plain": "  0%|          | 0/7165 [00:00<?, ?it/s]",
      "application/vnd.jupyter.widget-view+json": {
       "version_major": 2,
       "version_minor": 0,
       "model_id": "add06a7d31e345c4878af0877c55eb5d"
      }
     },
     "metadata": {},
     "output_type": "display_data"
    },
    {
     "data": {
      "text/plain": "  0%|          | 0/7165 [00:00<?, ?it/s]",
      "application/vnd.jupyter.widget-view+json": {
       "version_major": 2,
       "version_minor": 0,
       "model_id": "d01a10aab1ec40148ed84b6c9a1c19e2"
      }
     },
     "metadata": {},
     "output_type": "display_data"
    },
    {
     "data": {
      "text/plain": "  0%|          | 0/7165 [00:00<?, ?it/s]",
      "application/vnd.jupyter.widget-view+json": {
       "version_major": 2,
       "version_minor": 0,
       "model_id": "e2704292ad3f478ea0885b05dd6b7f63"
      }
     },
     "metadata": {},
     "output_type": "display_data"
    },
    {
     "data": {
      "text/plain": "  0%|          | 0/7165 [00:00<?, ?it/s]",
      "application/vnd.jupyter.widget-view+json": {
       "version_major": 2,
       "version_minor": 0,
       "model_id": "3cbfdeb224e64507a5e52e416023a18e"
      }
     },
     "metadata": {},
     "output_type": "display_data"
    },
    {
     "data": {
      "text/plain": "  0%|          | 0/7165 [00:00<?, ?it/s]",
      "application/vnd.jupyter.widget-view+json": {
       "version_major": 2,
       "version_minor": 0,
       "model_id": "e88601a8be93494fbe03e3d24b292f7b"
      }
     },
     "metadata": {},
     "output_type": "display_data"
    },
    {
     "data": {
      "text/plain": "  0%|          | 0/7165 [00:00<?, ?it/s]",
      "application/vnd.jupyter.widget-view+json": {
       "version_major": 2,
       "version_minor": 0,
       "model_id": "623ef72f9fe84d089bf315d26b94c741"
      }
     },
     "metadata": {},
     "output_type": "display_data"
    },
    {
     "data": {
      "text/plain": "  0%|          | 0/7165 [00:00<?, ?it/s]",
      "application/vnd.jupyter.widget-view+json": {
       "version_major": 2,
       "version_minor": 0,
       "model_id": "3b10f47cfd9242c7bb7d4d481f6b955a"
      }
     },
     "metadata": {},
     "output_type": "display_data"
    },
    {
     "data": {
      "text/plain": "  0%|          | 0/4 [00:00<?, ?it/s]",
      "application/vnd.jupyter.widget-view+json": {
       "version_major": 2,
       "version_minor": 0,
       "model_id": "ae8b1fe9b1c6487eabccdafb9bb93be7"
      }
     },
     "metadata": {},
     "output_type": "display_data"
    },
    {
     "data": {
      "text/plain": "  0%|          | 0/4 [00:00<?, ?it/s]",
      "application/vnd.jupyter.widget-view+json": {
       "version_major": 2,
       "version_minor": 0,
       "model_id": "924fdb0da54241cfaca6662631556c69"
      }
     },
     "metadata": {},
     "output_type": "display_data"
    },
    {
     "data": {
      "text/plain": "  0%|          | 0/4 [00:00<?, ?it/s]",
      "application/vnd.jupyter.widget-view+json": {
       "version_major": 2,
       "version_minor": 0,
       "model_id": "4193f7cda3f04529ba66f18fcb2ccc19"
      }
     },
     "metadata": {},
     "output_type": "display_data"
    },
    {
     "data": {
      "text/plain": "  0%|          | 0/4 [00:00<?, ?it/s]",
      "application/vnd.jupyter.widget-view+json": {
       "version_major": 2,
       "version_minor": 0,
       "model_id": "93f8cc705ab2410a9774adafd23e112e"
      }
     },
     "metadata": {},
     "output_type": "display_data"
    },
    {
     "data": {
      "text/plain": "  0%|          | 0/4 [00:00<?, ?it/s]",
      "application/vnd.jupyter.widget-view+json": {
       "version_major": 2,
       "version_minor": 0,
       "model_id": "075cc1d05b5a4f1a9f2d18e9b9c30ca4"
      }
     },
     "metadata": {},
     "output_type": "display_data"
    },
    {
     "data": {
      "text/plain": "  0%|          | 0/4 [00:00<?, ?it/s]",
      "application/vnd.jupyter.widget-view+json": {
       "version_major": 2,
       "version_minor": 0,
       "model_id": "50c6e5d55cb94a8293848bf0b1cc7cd5"
      }
     },
     "metadata": {},
     "output_type": "display_data"
    },
    {
     "data": {
      "text/plain": "  0%|          | 0/4 [00:00<?, ?it/s]",
      "application/vnd.jupyter.widget-view+json": {
       "version_major": 2,
       "version_minor": 0,
       "model_id": "911109f6fa0f46d6b3a39389c47e151d"
      }
     },
     "metadata": {},
     "output_type": "display_data"
    },
    {
     "data": {
      "text/plain": "  0%|          | 0/4 [00:00<?, ?it/s]",
      "application/vnd.jupyter.widget-view+json": {
       "version_major": 2,
       "version_minor": 0,
       "model_id": "282bfc9533064776b3e03152d60bf691"
      }
     },
     "metadata": {},
     "output_type": "display_data"
    },
    {
     "data": {
      "text/plain": "  0%|          | 0/4 [00:00<?, ?it/s]",
      "application/vnd.jupyter.widget-view+json": {
       "version_major": 2,
       "version_minor": 0,
       "model_id": "828b4a2d8a6f439c92fec039bb3f2873"
      }
     },
     "metadata": {},
     "output_type": "display_data"
    },
    {
     "data": {
      "text/plain": "  0%|          | 0/4 [00:00<?, ?it/s]",
      "application/vnd.jupyter.widget-view+json": {
       "version_major": 2,
       "version_minor": 0,
       "model_id": "4e40098f0a624a74a4a4c37f67f8d4d7"
      }
     },
     "metadata": {},
     "output_type": "display_data"
    },
    {
     "data": {
      "text/plain": "  0%|          | 0/4 [00:00<?, ?it/s]",
      "application/vnd.jupyter.widget-view+json": {
       "version_major": 2,
       "version_minor": 0,
       "model_id": "215e899e04bb4b8f9c31a590b7beb3fa"
      }
     },
     "metadata": {},
     "output_type": "display_data"
    },
    {
     "data": {
      "text/plain": "  0%|          | 0/4 [00:00<?, ?it/s]",
      "application/vnd.jupyter.widget-view+json": {
       "version_major": 2,
       "version_minor": 0,
       "model_id": "1575a95fa6cb4a2bbd314e9fd85cd57c"
      }
     },
     "metadata": {},
     "output_type": "display_data"
    },
    {
     "data": {
      "text/plain": "  0%|          | 0/4 [00:00<?, ?it/s]",
      "application/vnd.jupyter.widget-view+json": {
       "version_major": 2,
       "version_minor": 0,
       "model_id": "d288748bc27a472ba8446ee7c68f700f"
      }
     },
     "metadata": {},
     "output_type": "display_data"
    }
   ],
   "source": [
    "def preprocess(dataframe):\n",
    "    tqdm.pandas()\n",
    "    dataframe[\"flesch_reading_ease\"] = dataframe[\"text\"].progress_apply(\n",
    "        textstat.flesch_reading_ease\n",
    "    )\n",
    "    dataframe[\"difficult_words\"] = dataframe[\"text\"].progress_apply(textstat.difficult_words)\n",
    "    dataframe[\"bigrams_overlap_count\"] = dataframe.progress_apply(\n",
    "        ngram_co_occurrence, args=(2,), axis=1\n",
    "    )\n",
    "    dataframe[\"automated_readability_index\"] = dataframe[\"text\"].progress_apply(\n",
    "        textstat.automated_readability_index\n",
    "    )\n",
    "    dataframe[\"coleman_liau_index\"] = dataframe[\"text\"].progress_apply(\n",
    "        textstat.coleman_liau_index\n",
    "    )\n",
    "    dataframe[\"linsear_write_formula\"] = dataframe[\"text\"].progress_apply(\n",
    "        textstat.linsear_write_formula\n",
    "    )\n",
    "    dataframe[\"gunning_fog\"] = dataframe[\"text\"].progress_apply(textstat.gunning_fog)\n",
    "    dataframe[\"smog_index\"] = dataframe[\"text\"].progress_apply(textstat.smog_index)\n",
    "    dataframe[\"word_overlap_count\"] = dataframe.progress_apply(word_overlap_count, axis=1)\n",
    "    dataframe[\"dale_chall_readability_score\"] = dataframe[\"text\"].progress_apply(\n",
    "    textstat.dale_chall_readability_score)\n",
    "    dataframe[\"rouge_1\"] = dataframe.progress_apply(get_rouge_1_score, axis=1)\n",
    "    dataframe[\"rouge_2\"] = dataframe.progress_apply(get_rouge_2_score, axis=1)\n",
    "    dataframe[\"rouge_l\"] = dataframe.progress_apply(get_rouge_l_score, axis=1)\n",
    "\n",
    "    \n",
    "preprocess(merged_train)\n",
    "preprocess(merged_test)"
   ]
  },
  {
   "cell_type": "code",
   "execution_count": 13,
   "id": "966a6d0d",
   "metadata": {
    "execution": {
     "iopub.execute_input": "2023-11-02T14:04:49.641955Z",
     "iopub.status.busy": "2023-11-02T14:04:49.641508Z",
     "iopub.status.idle": "2023-11-02T14:04:49.811288Z",
     "shell.execute_reply": "2023-11-02T14:04:49.810233Z"
    },
    "papermill": {
     "duration": 0.180896,
     "end_time": "2023-11-02T14:04:49.813986",
     "exception": false,
     "start_time": "2023-11-02T14:04:49.633090",
     "status": "completed"
    },
    "tags": []
   },
   "outputs": [
    {
     "data": {
      "text/html": [
       "<div>\n",
       "<style scoped>\n",
       "    .dataframe tbody tr th:only-of-type {\n",
       "        vertical-align: middle;\n",
       "    }\n",
       "\n",
       "    .dataframe tbody tr th {\n",
       "        vertical-align: top;\n",
       "    }\n",
       "\n",
       "    .dataframe thead th {\n",
       "        text-align: right;\n",
       "    }\n",
       "</style>\n",
       "<table border=\"1\" class=\"dataframe\">\n",
       "  <thead>\n",
       "    <tr style=\"text-align: right;\">\n",
       "      <th></th>\n",
       "      <th>prompt_id</th>\n",
       "      <th>content</th>\n",
       "      <th>wording</th>\n",
       "      <th>flesch_reading_ease</th>\n",
       "      <th>difficult_words</th>\n",
       "      <th>bigrams_overlap_count</th>\n",
       "      <th>automated_readability_index</th>\n",
       "      <th>coleman_liau_index</th>\n",
       "      <th>linsear_write_formula</th>\n",
       "      <th>gunning_fog</th>\n",
       "      <th>smog_index</th>\n",
       "      <th>word_overlap_count</th>\n",
       "      <th>dale_chall_readability_score</th>\n",
       "      <th>rouge_1</th>\n",
       "      <th>rouge_2</th>\n",
       "      <th>rouge_l</th>\n",
       "    </tr>\n",
       "  </thead>\n",
       "  <tbody>\n",
       "    <tr>\n",
       "      <th>0</th>\n",
       "      <td>814d6b</td>\n",
       "      <td>0.205683</td>\n",
       "      <td>0.380538</td>\n",
       "      <td>64.41</td>\n",
       "      <td>11</td>\n",
       "      <td>10</td>\n",
       "      <td>8.3</td>\n",
       "      <td>9.04</td>\n",
       "      <td>8.375000</td>\n",
       "      <td>9.40</td>\n",
       "      <td>10.7</td>\n",
       "      <td>16</td>\n",
       "      <td>7.76</td>\n",
       "      <td>0.127168</td>\n",
       "      <td>0.006768</td>\n",
       "      <td>0.127168</td>\n",
       "    </tr>\n",
       "    <tr>\n",
       "      <th>1</th>\n",
       "      <td>814d6b</td>\n",
       "      <td>3.272894</td>\n",
       "      <td>3.219757</td>\n",
       "      <td>65.22</td>\n",
       "      <td>34</td>\n",
       "      <td>28</td>\n",
       "      <td>9.5</td>\n",
       "      <td>10.43</td>\n",
       "      <td>6.625000</td>\n",
       "      <td>9.15</td>\n",
       "      <td>10.1</td>\n",
       "      <td>28</td>\n",
       "      <td>8.24</td>\n",
       "      <td>0.227907</td>\n",
       "      <td>0.058091</td>\n",
       "      <td>0.227907</td>\n",
       "    </tr>\n",
       "    <tr>\n",
       "      <th>2</th>\n",
       "      <td>814d6b</td>\n",
       "      <td>0.205683</td>\n",
       "      <td>0.380538</td>\n",
       "      <td>76.22</td>\n",
       "      <td>11</td>\n",
       "      <td>21</td>\n",
       "      <td>7.0</td>\n",
       "      <td>8.63</td>\n",
       "      <td>6.200000</td>\n",
       "      <td>8.13</td>\n",
       "      <td>9.4</td>\n",
       "      <td>15</td>\n",
       "      <td>8.71</td>\n",
       "      <td>0.168605</td>\n",
       "      <td>0.044143</td>\n",
       "      <td>0.151163</td>\n",
       "    </tr>\n",
       "    <tr>\n",
       "      <th>3</th>\n",
       "      <td>814d6b</td>\n",
       "      <td>0.567975</td>\n",
       "      <td>0.969062</td>\n",
       "      <td>54.26</td>\n",
       "      <td>12</td>\n",
       "      <td>27</td>\n",
       "      <td>14.5</td>\n",
       "      <td>10.97</td>\n",
       "      <td>16.333333</td>\n",
       "      <td>14.33</td>\n",
       "      <td>14.1</td>\n",
       "      <td>18</td>\n",
       "      <td>8.84</td>\n",
       "      <td>0.231638</td>\n",
       "      <td>0.066116</td>\n",
       "      <td>0.197740</td>\n",
       "    </tr>\n",
       "    <tr>\n",
       "      <th>4</th>\n",
       "      <td>814d6b</td>\n",
       "      <td>-0.910596</td>\n",
       "      <td>-0.081769</td>\n",
       "      <td>74.69</td>\n",
       "      <td>5</td>\n",
       "      <td>7</td>\n",
       "      <td>6.1</td>\n",
       "      <td>7.24</td>\n",
       "      <td>6.750000</td>\n",
       "      <td>8.36</td>\n",
       "      <td>0.0</td>\n",
       "      <td>9</td>\n",
       "      <td>7.81</td>\n",
       "      <td>0.093750</td>\n",
       "      <td>0.014363</td>\n",
       "      <td>0.087500</td>\n",
       "    </tr>\n",
       "    <tr>\n",
       "      <th>...</th>\n",
       "      <td>...</td>\n",
       "      <td>...</td>\n",
       "      <td>...</td>\n",
       "      <td>...</td>\n",
       "      <td>...</td>\n",
       "      <td>...</td>\n",
       "      <td>...</td>\n",
       "      <td>...</td>\n",
       "      <td>...</td>\n",
       "      <td>...</td>\n",
       "      <td>...</td>\n",
       "      <td>...</td>\n",
       "      <td>...</td>\n",
       "      <td>...</td>\n",
       "      <td>...</td>\n",
       "      <td>...</td>\n",
       "    </tr>\n",
       "    <tr>\n",
       "      <th>7160</th>\n",
       "      <td>39c16e</td>\n",
       "      <td>-0.981265</td>\n",
       "      <td>-1.548900</td>\n",
       "      <td>54.90</td>\n",
       "      <td>8</td>\n",
       "      <td>7</td>\n",
       "      <td>16.2</td>\n",
       "      <td>9.12</td>\n",
       "      <td>20.500000</td>\n",
       "      <td>18.05</td>\n",
       "      <td>0.0</td>\n",
       "      <td>12</td>\n",
       "      <td>10.54</td>\n",
       "      <td>0.127660</td>\n",
       "      <td>0.010292</td>\n",
       "      <td>0.109422</td>\n",
       "    </tr>\n",
       "    <tr>\n",
       "      <th>7161</th>\n",
       "      <td>39c16e</td>\n",
       "      <td>-0.511077</td>\n",
       "      <td>-1.589115</td>\n",
       "      <td>66.41</td>\n",
       "      <td>6</td>\n",
       "      <td>6</td>\n",
       "      <td>14.6</td>\n",
       "      <td>8.66</td>\n",
       "      <td>16.000000</td>\n",
       "      <td>13.33</td>\n",
       "      <td>0.0</td>\n",
       "      <td>12</td>\n",
       "      <td>9.34</td>\n",
       "      <td>0.110429</td>\n",
       "      <td>0.006897</td>\n",
       "      <td>0.098160</td>\n",
       "    </tr>\n",
       "    <tr>\n",
       "      <th>7162</th>\n",
       "      <td>39c16e</td>\n",
       "      <td>-0.834946</td>\n",
       "      <td>-0.593749</td>\n",
       "      <td>95.47</td>\n",
       "      <td>2</td>\n",
       "      <td>15</td>\n",
       "      <td>3.2</td>\n",
       "      <td>5.02</td>\n",
       "      <td>3.833333</td>\n",
       "      <td>3.88</td>\n",
       "      <td>3.1</td>\n",
       "      <td>9</td>\n",
       "      <td>6.30</td>\n",
       "      <td>0.130435</td>\n",
       "      <td>0.024096</td>\n",
       "      <td>0.118012</td>\n",
       "    </tr>\n",
       "    <tr>\n",
       "      <th>7163</th>\n",
       "      <td>39c16e</td>\n",
       "      <td>-0.157460</td>\n",
       "      <td>-0.165811</td>\n",
       "      <td>71.85</td>\n",
       "      <td>12</td>\n",
       "      <td>24</td>\n",
       "      <td>10.6</td>\n",
       "      <td>11.08</td>\n",
       "      <td>8.500000</td>\n",
       "      <td>9.79</td>\n",
       "      <td>9.7</td>\n",
       "      <td>11</td>\n",
       "      <td>9.92</td>\n",
       "      <td>0.131737</td>\n",
       "      <td>0.050336</td>\n",
       "      <td>0.131737</td>\n",
       "    </tr>\n",
       "    <tr>\n",
       "      <th>7164</th>\n",
       "      <td>39c16e</td>\n",
       "      <td>-0.393310</td>\n",
       "      <td>0.627128</td>\n",
       "      <td>85.32</td>\n",
       "      <td>3</td>\n",
       "      <td>4</td>\n",
       "      <td>7.2</td>\n",
       "      <td>5.51</td>\n",
       "      <td>10.166667</td>\n",
       "      <td>8.56</td>\n",
       "      <td>6.4</td>\n",
       "      <td>13</td>\n",
       "      <td>7.02</td>\n",
       "      <td>0.117647</td>\n",
       "      <td>0.006633</td>\n",
       "      <td>0.105882</td>\n",
       "    </tr>\n",
       "  </tbody>\n",
       "</table>\n",
       "<p>7165 rows × 16 columns</p>\n",
       "</div>"
      ],
      "text/plain": [
       "     prompt_id   content   wording  flesch_reading_ease  difficult_words  \\\n",
       "0       814d6b  0.205683  0.380538                64.41               11   \n",
       "1       814d6b  3.272894  3.219757                65.22               34   \n",
       "2       814d6b  0.205683  0.380538                76.22               11   \n",
       "3       814d6b  0.567975  0.969062                54.26               12   \n",
       "4       814d6b -0.910596 -0.081769                74.69                5   \n",
       "...        ...       ...       ...                  ...              ...   \n",
       "7160    39c16e -0.981265 -1.548900                54.90                8   \n",
       "7161    39c16e -0.511077 -1.589115                66.41                6   \n",
       "7162    39c16e -0.834946 -0.593749                95.47                2   \n",
       "7163    39c16e -0.157460 -0.165811                71.85               12   \n",
       "7164    39c16e -0.393310  0.627128                85.32                3   \n",
       "\n",
       "      bigrams_overlap_count  automated_readability_index  coleman_liau_index  \\\n",
       "0                        10                          8.3                9.04   \n",
       "1                        28                          9.5               10.43   \n",
       "2                        21                          7.0                8.63   \n",
       "3                        27                         14.5               10.97   \n",
       "4                         7                          6.1                7.24   \n",
       "...                     ...                          ...                 ...   \n",
       "7160                      7                         16.2                9.12   \n",
       "7161                      6                         14.6                8.66   \n",
       "7162                     15                          3.2                5.02   \n",
       "7163                     24                         10.6               11.08   \n",
       "7164                      4                          7.2                5.51   \n",
       "\n",
       "      linsear_write_formula  gunning_fog  smog_index  word_overlap_count  \\\n",
       "0                  8.375000         9.40        10.7                  16   \n",
       "1                  6.625000         9.15        10.1                  28   \n",
       "2                  6.200000         8.13         9.4                  15   \n",
       "3                 16.333333        14.33        14.1                  18   \n",
       "4                  6.750000         8.36         0.0                   9   \n",
       "...                     ...          ...         ...                 ...   \n",
       "7160              20.500000        18.05         0.0                  12   \n",
       "7161              16.000000        13.33         0.0                  12   \n",
       "7162               3.833333         3.88         3.1                   9   \n",
       "7163               8.500000         9.79         9.7                  11   \n",
       "7164              10.166667         8.56         6.4                  13   \n",
       "\n",
       "      dale_chall_readability_score   rouge_1   rouge_2   rouge_l  \n",
       "0                             7.76  0.127168  0.006768  0.127168  \n",
       "1                             8.24  0.227907  0.058091  0.227907  \n",
       "2                             8.71  0.168605  0.044143  0.151163  \n",
       "3                             8.84  0.231638  0.066116  0.197740  \n",
       "4                             7.81  0.093750  0.014363  0.087500  \n",
       "...                            ...       ...       ...       ...  \n",
       "7160                         10.54  0.127660  0.010292  0.109422  \n",
       "7161                          9.34  0.110429  0.006897  0.098160  \n",
       "7162                          6.30  0.130435  0.024096  0.118012  \n",
       "7163                          9.92  0.131737  0.050336  0.131737  \n",
       "7164                          7.02  0.117647  0.006633  0.105882  \n",
       "\n",
       "[7165 rows x 16 columns]"
      ]
     },
     "execution_count": 13,
     "metadata": {},
     "output_type": "execute_result"
    }
   ],
   "source": [
    "merged_train = merged_train.drop([\"student_id\", \"text\", \"prompt_question\", \"prompt_title\", \"prompt_text\", \"summary_tokens\", \"prompt_tokens\"], axis=1)\n",
    "merged_train"
   ]
  },
  {
   "cell_type": "code",
   "execution_count": 14,
   "id": "18ec61ff",
   "metadata": {
    "execution": {
     "iopub.execute_input": "2023-11-02T14:04:49.831553Z",
     "iopub.status.busy": "2023-11-02T14:04:49.830593Z",
     "iopub.status.idle": "2023-11-02T14:04:49.854948Z",
     "shell.execute_reply": "2023-11-02T14:04:49.853602Z"
    },
    "papermill": {
     "duration": 0.036106,
     "end_time": "2023-11-02T14:04:49.857794",
     "exception": false,
     "start_time": "2023-11-02T14:04:49.821688",
     "status": "completed"
    },
    "tags": []
   },
   "outputs": [
    {
     "data": {
      "text/html": [
       "<div>\n",
       "<style scoped>\n",
       "    .dataframe tbody tr th:only-of-type {\n",
       "        vertical-align: middle;\n",
       "    }\n",
       "\n",
       "    .dataframe tbody tr th {\n",
       "        vertical-align: top;\n",
       "    }\n",
       "\n",
       "    .dataframe thead th {\n",
       "        text-align: right;\n",
       "    }\n",
       "</style>\n",
       "<table border=\"1\" class=\"dataframe\">\n",
       "  <thead>\n",
       "    <tr style=\"text-align: right;\">\n",
       "      <th></th>\n",
       "      <th>student_id</th>\n",
       "      <th>prompt_id</th>\n",
       "      <th>flesch_reading_ease</th>\n",
       "      <th>difficult_words</th>\n",
       "      <th>bigrams_overlap_count</th>\n",
       "      <th>automated_readability_index</th>\n",
       "      <th>coleman_liau_index</th>\n",
       "      <th>linsear_write_formula</th>\n",
       "      <th>gunning_fog</th>\n",
       "      <th>smog_index</th>\n",
       "      <th>word_overlap_count</th>\n",
       "      <th>dale_chall_readability_score</th>\n",
       "      <th>rouge_1</th>\n",
       "      <th>rouge_2</th>\n",
       "      <th>rouge_l</th>\n",
       "    </tr>\n",
       "  </thead>\n",
       "  <tbody>\n",
       "    <tr>\n",
       "      <th>0</th>\n",
       "      <td>000000ffffff</td>\n",
       "      <td>abc123</td>\n",
       "      <td>59.97</td>\n",
       "      <td>1</td>\n",
       "      <td>0</td>\n",
       "      <td>-1.2</td>\n",
       "      <td>-2.38</td>\n",
       "      <td>1.5</td>\n",
       "      <td>14.53</td>\n",
       "      <td>0.0</td>\n",
       "      <td>0</td>\n",
       "      <td>19.58</td>\n",
       "      <td>0.0</td>\n",
       "      <td>0.0</td>\n",
       "      <td>0.0</td>\n",
       "    </tr>\n",
       "    <tr>\n",
       "      <th>1</th>\n",
       "      <td>222222cccccc</td>\n",
       "      <td>abc123</td>\n",
       "      <td>59.97</td>\n",
       "      <td>1</td>\n",
       "      <td>0</td>\n",
       "      <td>-1.2</td>\n",
       "      <td>-2.38</td>\n",
       "      <td>1.5</td>\n",
       "      <td>14.53</td>\n",
       "      <td>0.0</td>\n",
       "      <td>0</td>\n",
       "      <td>19.58</td>\n",
       "      <td>0.0</td>\n",
       "      <td>0.0</td>\n",
       "      <td>0.0</td>\n",
       "    </tr>\n",
       "    <tr>\n",
       "      <th>2</th>\n",
       "      <td>111111eeeeee</td>\n",
       "      <td>def789</td>\n",
       "      <td>59.97</td>\n",
       "      <td>1</td>\n",
       "      <td>0</td>\n",
       "      <td>-1.2</td>\n",
       "      <td>-2.38</td>\n",
       "      <td>1.5</td>\n",
       "      <td>14.53</td>\n",
       "      <td>0.0</td>\n",
       "      <td>0</td>\n",
       "      <td>19.58</td>\n",
       "      <td>0.0</td>\n",
       "      <td>0.0</td>\n",
       "      <td>0.0</td>\n",
       "    </tr>\n",
       "    <tr>\n",
       "      <th>3</th>\n",
       "      <td>333333dddddd</td>\n",
       "      <td>def789</td>\n",
       "      <td>59.97</td>\n",
       "      <td>1</td>\n",
       "      <td>0</td>\n",
       "      <td>-1.2</td>\n",
       "      <td>-2.38</td>\n",
       "      <td>1.5</td>\n",
       "      <td>14.53</td>\n",
       "      <td>0.0</td>\n",
       "      <td>0</td>\n",
       "      <td>19.58</td>\n",
       "      <td>0.0</td>\n",
       "      <td>0.0</td>\n",
       "      <td>0.0</td>\n",
       "    </tr>\n",
       "  </tbody>\n",
       "</table>\n",
       "</div>"
      ],
      "text/plain": [
       "     student_id prompt_id  flesch_reading_ease  difficult_words  \\\n",
       "0  000000ffffff    abc123                59.97                1   \n",
       "1  222222cccccc    abc123                59.97                1   \n",
       "2  111111eeeeee    def789                59.97                1   \n",
       "3  333333dddddd    def789                59.97                1   \n",
       "\n",
       "   bigrams_overlap_count  automated_readability_index  coleman_liau_index  \\\n",
       "0                      0                         -1.2               -2.38   \n",
       "1                      0                         -1.2               -2.38   \n",
       "2                      0                         -1.2               -2.38   \n",
       "3                      0                         -1.2               -2.38   \n",
       "\n",
       "   linsear_write_formula  gunning_fog  smog_index  word_overlap_count  \\\n",
       "0                    1.5        14.53         0.0                   0   \n",
       "1                    1.5        14.53         0.0                   0   \n",
       "2                    1.5        14.53         0.0                   0   \n",
       "3                    1.5        14.53         0.0                   0   \n",
       "\n",
       "   dale_chall_readability_score  rouge_1  rouge_2  rouge_l  \n",
       "0                         19.58      0.0      0.0      0.0  \n",
       "1                         19.58      0.0      0.0      0.0  \n",
       "2                         19.58      0.0      0.0      0.0  \n",
       "3                         19.58      0.0      0.0      0.0  "
      ]
     },
     "execution_count": 14,
     "metadata": {},
     "output_type": "execute_result"
    }
   ],
   "source": [
    "merged_test = merged_test.drop([\"text\", \"prompt_question\", \"prompt_title\", \"prompt_text\", \"summary_tokens\", \"prompt_tokens\"], axis=1)\n",
    "merged_test"
   ]
  },
  {
   "cell_type": "code",
   "execution_count": 15,
   "id": "2f192d02",
   "metadata": {
    "execution": {
     "iopub.execute_input": "2023-11-02T14:04:49.875963Z",
     "iopub.status.busy": "2023-11-02T14:04:49.875477Z",
     "iopub.status.idle": "2023-11-02T14:04:49.898857Z",
     "shell.execute_reply": "2023-11-02T14:04:49.897444Z"
    },
    "papermill": {
     "duration": 0.036557,
     "end_time": "2023-11-02T14:04:49.902329",
     "exception": false,
     "start_time": "2023-11-02T14:04:49.865772",
     "status": "completed"
    },
    "tags": []
   },
   "outputs": [],
   "source": [
    "X_train, X_val, y_train, y_val = train_test_split(\n",
    "    merged_train.drop([\"wording\", \"content\", \"prompt_id\"], axis=1),\n",
    "    merged_train[[\"wording\", \"content\"]],\n",
    "    test_size=0.2,\n",
    "    random_state=42,\n",
    "    stratify=merged_train[\"prompt_id\"],\n",
    ")"
   ]
  },
  {
   "cell_type": "code",
   "execution_count": 16,
   "id": "80819cfa",
   "metadata": {
    "execution": {
     "iopub.execute_input": "2023-11-02T14:04:49.920868Z",
     "iopub.status.busy": "2023-11-02T14:04:49.920342Z",
     "iopub.status.idle": "2023-11-02T14:04:51.126945Z",
     "shell.execute_reply": "2023-11-02T14:04:51.125524Z"
    },
    "papermill": {
     "duration": 1.219624,
     "end_time": "2023-11-02T14:04:51.130132",
     "exception": false,
     "start_time": "2023-11-02T14:04:49.910508",
     "status": "completed"
    },
    "tags": []
   },
   "outputs": [],
   "source": [
    "import lightgbm as lgb\n",
    "from sklearn.multioutput import MultiOutputRegressor\n",
    "from sklearn.metrics import mean_squared_error"
   ]
  },
  {
   "cell_type": "code",
   "execution_count": 17,
   "id": "7cbc74d6",
   "metadata": {
    "execution": {
     "iopub.execute_input": "2023-11-02T14:04:51.148986Z",
     "iopub.status.busy": "2023-11-02T14:04:51.148543Z",
     "iopub.status.idle": "2023-11-02T14:18:29.642183Z",
     "shell.execute_reply": "2023-11-02T14:18:29.640933Z"
    },
    "papermill": {
     "duration": 818.505709,
     "end_time": "2023-11-02T14:18:29.644663",
     "exception": false,
     "start_time": "2023-11-02T14:04:51.138954",
     "status": "completed"
    },
    "tags": []
   },
   "outputs": [
    {
     "name": "stderr",
     "output_type": "stream",
     "text": [
      "[I 2023-11-02 14:04:52,827] A new study created in memory with name: no-name-21b0f496-9d75-4f86-a29e-0405473d8701\n",
      "[I 2023-11-02 14:05:08,740] Trial 0 finished with value: 0.6198880730568503 and parameters: {'learning_rate': 0.2718694377761657, 'n_estimators': 923, 'num_leaves': 96, 'max_depth': 20, 'min_child_samples': 49, 'subsample': 0.8509636459591278, 'colsample_bytree': 0.49569670848601954, 'reg_alpha': 2.8271837018426556e-07, 'reg_lambda': 8.645547409123926e-05}. Best is trial 0 with value: 0.6198880730568503.\n",
      "[I 2023-11-02 14:05:09,145] Trial 1 finished with value: 1.0492221097331935 and parameters: {'learning_rate': 2.744061427318628e-07, 'n_estimators': 143, 'num_leaves': 50, 'max_depth': 3, 'min_child_samples': 36, 'subsample': 0.25626028850186333, 'colsample_bytree': 0.6410651636201727, 'reg_alpha': 0.20695169538681307, 'reg_lambda': 2.4193174215976123e-07}. Best is trial 0 with value: 0.6198880730568503.\n",
      "[I 2023-11-02 14:05:10,857] Trial 2 finished with value: 0.7482212617978161 and parameters: {'learning_rate': 0.008086935582465015, 'n_estimators': 96, 'num_leaves': 138, 'max_depth': 17, 'min_child_samples': 92, 'subsample': 0.36135925424201676, 'colsample_bytree': 0.7562902377094046, 'reg_alpha': 2.8515253312312634e-05, 'reg_lambda': 4.3067225706047816e-07}. Best is trial 0 with value: 0.6198880730568503.\n",
      "[I 2023-11-02 14:05:15,519] Trial 3 finished with value: 0.7769607489338259 and parameters: {'learning_rate': 0.9310152890870368, 'n_estimators': 104, 'num_leaves': 159, 'max_depth': 15, 'min_child_samples': 4, 'subsample': 0.5541232164126756, 'colsample_bytree': 0.6692857305803085, 'reg_alpha': 0.245401360473231, 'reg_lambda': 6.841938551509367e-05}. Best is trial 0 with value: 0.6198880730568503.\n",
      "[I 2023-11-02 14:05:25,837] Trial 4 finished with value: 0.5967553099058187 and parameters: {'learning_rate': 0.12382260390334822, 'n_estimators': 642, 'num_leaves': 182, 'max_depth': 31, 'min_child_samples': 92, 'subsample': 0.8700994512112789, 'colsample_bytree': 0.610960344487032, 'reg_alpha': 0.7648955697440901, 'reg_lambda': 0.0015522284321665754}. Best is trial 4 with value: 0.5967553099058187.\n",
      "[I 2023-11-02 14:05:34,873] Trial 5 finished with value: 0.5960767930408502 and parameters: {'learning_rate': 0.005754864500913948, 'n_estimators': 491, 'num_leaves': 249, 'max_depth': 21, 'min_child_samples': 70, 'subsample': 0.3175604039839398, 'colsample_bytree': 0.4246885960350174, 'reg_alpha': 3.1618809346863883e-06, 'reg_lambda': 0.04227533271917012}. Best is trial 5 with value: 0.5960767930408502.\n",
      "[I 2023-11-02 14:05:47,305] Trial 6 finished with value: 1.038532979649588 and parameters: {'learning_rate': 2.5786497012720947e-05, 'n_estimators': 690, 'num_leaves': 228, 'max_depth': 15, 'min_child_samples': 85, 'subsample': 0.9634772863686192, 'colsample_bytree': 0.7882009862758902, 'reg_alpha': 0.0010130705738646336, 'reg_lambda': 0.40589023445460537}. Best is trial 5 with value: 0.5960767930408502.\n",
      "[I 2023-11-02 14:05:50,606] Trial 7 finished with value: 0.572369397072743 and parameters: {'learning_rate': 0.062401453228697584, 'n_estimators': 846, 'num_leaves': 101, 'max_depth': 5, 'min_child_samples': 100, 'subsample': 0.35757122314012324, 'colsample_bytree': 0.5889224280786404, 'reg_alpha': 0.07040759882415405, 'reg_lambda': 0.00011742012917707627}. Best is trial 7 with value: 0.572369397072743.\n",
      "[I 2023-11-02 14:05:59,595] Trial 8 finished with value: 1.0488282432624239 and parameters: {'learning_rate': 9.720202949786383e-07, 'n_estimators': 694, 'num_leaves': 37, 'max_depth': 10, 'min_child_samples': 36, 'subsample': 0.4487121845300246, 'colsample_bytree': 0.7900179767188382, 'reg_alpha': 0.06179251273937433, 'reg_lambda': 1.8694611058378671e-07}. Best is trial 7 with value: 0.572369397072743.\n",
      "[I 2023-11-02 14:06:05,605] Trial 9 finished with value: 1.0480359048169223 and parameters: {'learning_rate': 2.932891350596941e-06, 'n_estimators': 749, 'num_leaves': 119, 'max_depth': 5, 'min_child_samples': 41, 'subsample': 0.31031995529191825, 'colsample_bytree': 0.5389398565369423, 'reg_alpha': 5.89738794439504e-05, 'reg_lambda': 9.398519553759574e-07}. Best is trial 7 with value: 0.572369397072743.\n",
      "[I 2023-11-02 14:06:21,178] Trial 10 finished with value: 0.8684300811019096 and parameters: {'learning_rate': 0.0007143390212504641, 'n_estimators': 957, 'num_leaves': 80, 'max_depth': 9, 'min_child_samples': 67, 'subsample': 0.12257452997902851, 'colsample_bytree': 0.1884178095669689, 'reg_alpha': 0.003470056972538078, 'reg_lambda': 8.823395155321738e-06}. Best is trial 7 with value: 0.572369397072743.\n",
      "[I 2023-11-02 14:06:28,260] Trial 11 finished with value: 0.6100406646600944 and parameters: {'learning_rate': 0.006679430281660555, 'n_estimators': 381, 'num_leaves': 254, 'max_depth': 25, 'min_child_samples': 70, 'subsample': 0.5346777198070464, 'colsample_bytree': 0.3880348890726457, 'reg_alpha': 1.4247267255560318e-06, 'reg_lambda': 0.00808953820902722}. Best is trial 7 with value: 0.572369397072743.\n",
      "[I 2023-11-02 14:06:36,372] Trial 12 finished with value: 0.9796652866403373 and parameters: {'learning_rate': 0.0003291835472552449, 'n_estimators': 428, 'num_leaves': 206, 'max_depth': 24, 'min_child_samples': 67, 'subsample': 0.1034734537652986, 'colsample_bytree': 0.37600096639788455, 'reg_alpha': 6.09802212339915e-08, 'reg_lambda': 1.7690224126244368e-08}. Best is trial 7 with value: 0.572369397072743.\n",
      "[I 2023-11-02 14:06:36,769] Trial 13 finished with value: 1.049239646393875 and parameters: {'learning_rate': 1.7596486414472194e-08, 'n_estimators': 301, 'num_leaves': 15, 'max_depth': 1, 'min_child_samples': 78, 'subsample': 0.24950235035690993, 'colsample_bytree': 0.9016119926559942, 'reg_alpha': 4.87902706602582e-06, 'reg_lambda': 0.949046259656023}. Best is trial 7 with value: 0.572369397072743.\n",
      "[I 2023-11-02 14:06:45,787] Trial 14 finished with value: 0.5668988832765975 and parameters: {'learning_rate': 0.017279028188660422, 'n_estimators': 545, 'num_leaves': 78, 'max_depth': 8, 'min_child_samples': 17, 'subsample': 0.4190134614326627, 'colsample_bytree': 0.9807921171713041, 'reg_alpha': 1.4693861071014122e-08, 'reg_lambda': 0.005993055305045583}. Best is trial 14 with value: 0.5668988832765975.\n",
      "[I 2023-11-02 14:06:56,729] Trial 15 finished with value: 0.5823797378424143 and parameters: {'learning_rate': 0.0565634422621746, 'n_estimators': 827, 'num_leaves': 77, 'max_depth': 8, 'min_child_samples': 16, 'subsample': 0.5982738109006434, 'colsample_bytree': 0.9445124431592418, 'reg_alpha': 2.1969524932449104e-08, 'reg_lambda': 0.0009794922658707904}. Best is trial 14 with value: 0.5668988832765975.\n",
      "[I 2023-11-02 14:07:06,289] Trial 16 finished with value: 0.5753105835432268 and parameters: {'learning_rate': 0.041222654055410264, 'n_estimators': 545, 'num_leaves': 117, 'max_depth': 12, 'min_child_samples': 22, 'subsample': 0.43558258196993105, 'colsample_bytree': 0.9685148273497366, 'reg_alpha': 0.0005446269293891829, 'reg_lambda': 0.0003551975819593972}. Best is trial 14 with value: 0.5668988832765975.\n",
      "[I 2023-11-02 14:07:10,871] Trial 17 finished with value: 0.6617531054238389 and parameters: {'learning_rate': 0.6410991028755024, 'n_estimators': 846, 'num_leaves': 54, 'max_depth': 6, 'min_child_samples': 100, 'subsample': 0.6974108688280213, 'colsample_bytree': 0.8970125596759787, 'reg_alpha': 0.012752402800627366, 'reg_lambda': 0.011250341678488207}. Best is trial 14 with value: 0.5668988832765975.\n",
      "[I 2023-11-02 14:07:11,204] Trial 18 finished with value: 0.9700029449490037 and parameters: {'learning_rate': 0.0011794105323383883, 'n_estimators': 245, 'num_leaves': 146, 'max_depth': 1, 'min_child_samples': 55, 'subsample': 0.46078781225679455, 'colsample_bytree': 0.8446205619354838, 'reg_alpha': 1.2119879116277938e-08, 'reg_lambda': 1.541653706863817e-05}. Best is trial 14 with value: 0.5668988832765975.\n",
      "[I 2023-11-02 14:07:12,718] Trial 19 finished with value: 0.5735926051864392 and parameters: {'learning_rate': 0.031324331504153556, 'n_estimators': 594, 'num_leaves': 5, 'max_depth': 12, 'min_child_samples': 1, 'subsample': 0.20658522754160724, 'colsample_bytree': 0.992064168457392, 'reg_alpha': 0.00038799603990775407, 'reg_lambda': 0.0003760674851798799}. Best is trial 14 with value: 0.5668988832765975.\n",
      "[I 2023-11-02 14:07:22,953] Trial 20 finished with value: 0.969606912347716 and parameters: {'learning_rate': 0.000150499464519903, 'n_estimators': 998, 'num_leaves': 101, 'max_depth': 5, 'min_child_samples': 24, 'subsample': 0.37843903897827685, 'colsample_bytree': 0.6985420361853953, 'reg_alpha': 0.012746698932413161, 'reg_lambda': 0.004080209511700979}. Best is trial 14 with value: 0.5668988832765975.\n",
      "[I 2023-11-02 14:07:25,962] Trial 21 finished with value: 0.5651268452304623 and parameters: {'learning_rate': 0.029737293447929365, 'n_estimators': 548, 'num_leaves': 12, 'max_depth': 12, 'min_child_samples': 1, 'subsample': 0.21050053170170557, 'colsample_bytree': 0.9763809568918654, 'reg_alpha': 0.00026415558274598566, 'reg_lambda': 0.000383612963356885}. Best is trial 21 with value: 0.5651268452304623.\n",
      "[I 2023-11-02 14:07:34,782] Trial 22 finished with value: 0.5914270230752349 and parameters: {'learning_rate': 0.13816188972884672, 'n_estimators': 794, 'num_leaves': 32, 'max_depth': 12, 'min_child_samples': 10, 'subsample': 0.18732265316040939, 'colsample_bytree': 0.8620232299047634, 'reg_alpha': 0.00010619925234869738, 'reg_lambda': 0.0002837112531278914}. Best is trial 21 with value: 0.5651268452304623.\n",
      "[I 2023-11-02 14:07:45,492] Trial 23 finished with value: 0.6484965758213875 and parameters: {'learning_rate': 0.002692188711273312, 'n_estimators': 471, 'num_leaves': 70, 'max_depth': 7, 'min_child_samples': 25, 'subsample': 0.2888969680235521, 'colsample_bytree': 0.9945405121750319, 'reg_alpha': 2.000840551665708e-05, 'reg_lambda': 0.047642425110648645}. Best is trial 21 with value: 0.5651268452304623.\n",
      "[I 2023-11-02 14:07:51,514] Trial 24 finished with value: 0.5653312974601952 and parameters: {'learning_rate': 0.014066571102340233, 'n_estimators': 578, 'num_leaves': 22, 'max_depth': 11, 'min_child_samples': 8, 'subsample': 0.37106761063147264, 'colsample_bytree': 0.8414961259654925, 'reg_alpha': 1.8475775681656732e-07, 'reg_lambda': 0.0017889428084350975}. Best is trial 21 with value: 0.5651268452304623.\n",
      "[I 2023-11-02 14:07:56,921] Trial 25 finished with value: 0.5668121477225124 and parameters: {'learning_rate': 0.017268749027063802, 'n_estimators': 574, 'num_leaves': 23, 'max_depth': 17, 'min_child_samples': 11, 'subsample': 0.19201317728219544, 'colsample_bytree': 0.9163914287580539, 'reg_alpha': 2.58266992058737e-07, 'reg_lambda': 0.002147936590675851}. Best is trial 21 with value: 0.5651268452304623.\n",
      "[I 2023-11-02 14:08:00,249] Trial 26 finished with value: 0.726242495370399 and parameters: {'learning_rate': 0.0024758155738468565, 'n_estimators': 371, 'num_leaves': 20, 'max_depth': 18, 'min_child_samples': 10, 'subsample': 0.176962835405448, 'colsample_bytree': 0.8329843935623467, 'reg_alpha': 3.174179869428159e-07, 'reg_lambda': 0.002694591809798343}. Best is trial 21 with value: 0.5651268452304623.\n",
      "[I 2023-11-02 14:08:10,014] Trial 27 finished with value: 0.5655581477027651 and parameters: {'learning_rate': 0.009372613674038686, 'n_estimators': 610, 'num_leaves': 40, 'max_depth': 16, 'min_child_samples': 10, 'subsample': 0.22097883890572206, 'colsample_bytree': 0.8970555266364033, 'reg_alpha': 1.926288894526369e-07, 'reg_lambda': 0.0009366544144237638}. Best is trial 21 with value: 0.5651268452304623.\n",
      "[I 2023-11-02 14:08:10,151] Trial 28 finished with value: 1.0483330064063157 and parameters: {'learning_rate': 0.0007374067166713891, 'n_estimators': 2, 'num_leaves': 45, 'max_depth': 14, 'min_child_samples': 1, 'subsample': 0.2654252774119116, 'colsample_bytree': 0.7215628483461722, 'reg_alpha': 7.519069349183126e-08, 'reg_lambda': 0.0010607813433426993}. Best is trial 21 with value: 0.5651268452304623.\n",
      "[I 2023-11-02 14:08:12,308] Trial 29 finished with value: 1.0290843098018345 and parameters: {'learning_rate': 6.575129976127448e-05, 'n_estimators': 642, 'num_leaves': 6, 'max_depth': 11, 'min_child_samples': 51, 'subsample': 0.14640337197762576, 'colsample_bytree': 0.8058373151028799, 'reg_alpha': 1.0680995458880195e-06, 'reg_lambda': 4.824888353456933e-05}. Best is trial 21 with value: 0.5651268452304623.\n",
      "[I 2023-11-02 14:08:26,749] Trial 30 finished with value: 0.6171987439720923 and parameters: {'learning_rate': 0.25388966280271286, 'n_estimators': 734, 'num_leaves': 61, 'max_depth': 20, 'min_child_samples': 29, 'subsample': 0.22669201995434643, 'colsample_bytree': 0.918764590487362, 'reg_alpha': 6.295095926332803e-06, 'reg_lambda': 0.0004680836902735526}. Best is trial 21 with value: 0.5651268452304623.\n",
      "[I 2023-11-02 14:08:32,703] Trial 31 finished with value: 0.5637714289039777 and parameters: {'learning_rate': 0.016142272466878875, 'n_estimators': 561, 'num_leaves': 26, 'max_depth': 20, 'min_child_samples': 10, 'subsample': 0.1810552194676927, 'colsample_bytree': 0.8890497299108053, 'reg_alpha': 2.2967879288871985e-07, 'reg_lambda': 0.0015695550410845787}. Best is trial 31 with value: 0.5637714289039777.\n",
      "[I 2023-11-02 14:08:41,827] Trial 32 finished with value: 0.5653789391750288 and parameters: {'learning_rate': 0.014392995555762766, 'n_estimators': 626, 'num_leaves': 38, 'max_depth': 20, 'min_child_samples': 7, 'subsample': 0.14468676630345723, 'colsample_bytree': 0.8757566834820504, 'reg_alpha': 3.739674460759439e-07, 'reg_lambda': 0.0007298646202068623}. Best is trial 31 with value: 0.5637714289039777.\n",
      "[I 2023-11-02 14:08:42,639] Trial 33 finished with value: 0.568577262989504 and parameters: {'learning_rate': 0.1647818611339657, 'n_estimators': 450, 'num_leaves': 3, 'max_depth': 24, 'min_child_samples': 17, 'subsample': 0.10605833239472098, 'colsample_bytree': 0.742718800366669, 'reg_alpha': 6.23370566494978e-07, 'reg_lambda': 0.0001718035426375551}. Best is trial 31 with value: 0.5637714289039777.\n",
      "[I 2023-11-02 14:08:48,716] Trial 34 finished with value: 0.5654756767522654 and parameters: {'learning_rate': 0.017894040573142686, 'n_estimators': 525, 'num_leaves': 30, 'max_depth': 21, 'min_child_samples': 6, 'subsample': 0.14935715174066042, 'colsample_bytree': 0.8660791686769032, 'reg_alpha': 7.665409951909328e-08, 'reg_lambda': 0.00010433393066149041}. Best is trial 31 with value: 0.5637714289039777.\n",
      "[I 2023-11-02 14:09:01,548] Trial 35 finished with value: 0.6248885146283432 and parameters: {'learning_rate': 0.39445347399666736, 'n_estimators': 685, 'num_leaves': 52, 'max_depth': 30, 'min_child_samples': 31, 'subsample': 0.2846883286879977, 'colsample_bytree': 0.8357596565435736, 'reg_alpha': 1.308854367964763e-05, 'reg_lambda': 0.014069648085114688}. Best is trial 31 with value: 0.5637714289039777.\n",
      "[I 2023-11-02 14:09:04,550] Trial 36 finished with value: 0.618888587112784 and parameters: {'learning_rate': 0.0053185228537094495, 'n_estimators': 369, 'num_leaves': 19, 'max_depth': 19, 'min_child_samples': 16, 'subsample': 0.2371307393409823, 'colsample_bytree': 0.7636817122333479, 'reg_alpha': 1.877664947875607e-06, 'reg_lambda': 0.0006549899516188845}. Best is trial 31 with value: 0.5637714289039777.\n",
      "[I 2023-11-02 14:09:17,013] Trial 37 finished with value: 0.5815970937535022 and parameters: {'learning_rate': 0.07690868810025779, 'n_estimators': 642, 'num_leaves': 61, 'max_depth': 27, 'min_child_samples': 6, 'subsample': 0.1688192857422356, 'colsample_bytree': 0.6747587090299528, 'reg_alpha': 3.345417122674675e-06, 'reg_lambda': 0.002152456492462098}. Best is trial 31 with value: 0.5637714289039777.\n",
      "[I 2023-11-02 14:09:24,284] Trial 38 finished with value: 0.6211528022394739 and parameters: {'learning_rate': 0.34892723650951024, 'n_estimators': 514, 'num_leaves': 169, 'max_depth': 14, 'min_child_samples': 42, 'subsample': 0.312765726865993, 'colsample_bytree': 0.95026232526244, 'reg_alpha': 5.654824282977171e-07, 'reg_lambda': 7.461747792273091e-05}. Best is trial 31 with value: 0.5637714289039777.\n",
      "[I 2023-11-02 14:09:33,589] Trial 39 finished with value: 0.7071661098510958 and parameters: {'learning_rate': 0.7548324347241447, 'n_estimators': 276, 'num_leaves': 89, 'max_depth': 22, 'min_child_samples': 5, 'subsample': 0.3530163550061656, 'colsample_bytree': 0.7917510540818306, 'reg_alpha': 1.556307996726639e-07, 'reg_lambda': 0.04275524139742348}. Best is trial 31 with value: 0.5637714289039777.\n",
      "[I 2023-11-02 14:09:40,636] Trial 40 finished with value: 0.6618435162826817 and parameters: {'learning_rate': 0.0028883549864417344, 'n_estimators': 424, 'num_leaves': 42, 'max_depth': 16, 'min_child_samples': 20, 'subsample': 0.15613298292725086, 'colsample_bytree': 0.7411278451790267, 'reg_alpha': 6.937265912728631e-07, 'reg_lambda': 0.00019550159406811363}. Best is trial 31 with value: 0.5637714289039777.\n",
      "[I 2023-11-02 14:09:46,912] Trial 41 finished with value: 0.5650616566151929 and parameters: {'learning_rate': 0.01406358902602483, 'n_estimators': 546, 'num_leaves': 30, 'max_depth': 22, 'min_child_samples': 7, 'subsample': 0.14470871031912244, 'colsample_bytree': 0.8628901311628554, 'reg_alpha': 3.856621132506393e-08, 'reg_lambda': 4.6667482413308985e-05}. Best is trial 31 with value: 0.5637714289039777.\n",
      "[I 2023-11-02 14:09:52,943] Trial 42 finished with value: 0.5675205124674497 and parameters: {'learning_rate': 0.028662579583599537, 'n_estimators': 597, 'num_leaves': 26, 'max_depth': 23, 'min_child_samples': 13, 'subsample': 0.25979933739954575, 'colsample_bytree': 0.8682255765739626, 'reg_alpha': 3.3674396707319635e-08, 'reg_lambda': 4.504462462975243e-05}. Best is trial 31 with value: 0.5637714289039777.\n",
      "[I 2023-11-02 14:09:57,491] Trial 43 finished with value: 0.5730654183030411 and parameters: {'learning_rate': 0.09162313431449681, 'n_estimators': 655, 'num_leaves': 14, 'max_depth': 19, 'min_child_samples': 1, 'subsample': 0.1060495436978426, 'colsample_bytree': 0.9477911365778646, 'reg_alpha': 3.876863573275264e-08, 'reg_lambda': 0.0005579831430436598}. Best is trial 31 with value: 0.5637714289039777.\n",
      "[I 2023-11-02 14:10:07,357] Trial 44 finished with value: 0.568069465897367 and parameters: {'learning_rate': 0.006337287619183894, 'n_estimators': 742, 'num_leaves': 34, 'max_depth': 26, 'min_child_samples': 7, 'subsample': 0.19712131149714474, 'colsample_bytree': 0.8151562765104385, 'reg_alpha': 2.621912567793056e-08, 'reg_lambda': 2.303540633790677e-05}. Best is trial 31 with value: 0.5637714289039777.\n",
      "[I 2023-11-02 14:10:17,343] Trial 45 finished with value: 0.5649995297699162 and parameters: {'learning_rate': 0.013504761793193355, 'n_estimators': 498, 'num_leaves': 62, 'max_depth': 14, 'min_child_samples': 28, 'subsample': 0.14590657241647859, 'colsample_bytree': 0.8802492019032351, 'reg_alpha': 1.8711604447043338e-07, 'reg_lambda': 0.00015947143122582892}. Best is trial 31 with value: 0.5637714289039777.\n",
      "[I 2023-11-02 14:10:25,095] Trial 46 finished with value: 0.5733452549093168 and parameters: {'learning_rate': 0.04052998307057198, 'n_estimators': 494, 'num_leaves': 61, 'max_depth': 13, 'min_child_samples': 33, 'subsample': 0.24600129633800796, 'colsample_bytree': 0.9267187210788572, 'reg_alpha': 1.1831950515276922e-07, 'reg_lambda': 6.400372876953695e-06}. Best is trial 31 with value: 0.5637714289039777.\n",
      "[I 2023-11-02 14:10:27,906] Trial 47 finished with value: 0.5758803578189786 and parameters: {'learning_rate': 0.11900232673335327, 'n_estimators': 565, 'num_leaves': 12, 'max_depth': 10, 'min_child_samples': 28, 'subsample': 0.33215167379131005, 'colsample_bytree': 0.6384226095854877, 'reg_alpha': 8.902551240856578e-08, 'reg_lambda': 0.0001516601804423036}. Best is trial 31 with value: 0.5637714289039777.\n",
      "[I 2023-11-02 14:10:35,946] Trial 48 finished with value: 0.5657736828933653 and parameters: {'learning_rate': 0.010380236079563272, 'n_estimators': 425, 'num_leaves': 51, 'max_depth': 15, 'min_child_samples': 20, 'subsample': 0.2864041498102924, 'colsample_bytree': 0.7752167886893764, 'reg_alpha': 1.4742456362800811e-06, 'reg_lambda': 0.0018734793495024803}. Best is trial 31 with value: 0.5637714289039777.\n",
      "[I 2023-11-02 14:10:40,047] Trial 49 finished with value: 0.5723925739799239 and parameters: {'learning_rate': 0.05105215898164336, 'n_estimators': 492, 'num_leaves': 25, 'max_depth': 10, 'min_child_samples': 14, 'subsample': 0.13221000256567583, 'colsample_bytree': 0.9481571959802594, 'reg_alpha': 1.702293910933606e-07, 'reg_lambda': 0.00021717393994998075}. Best is trial 31 with value: 0.5637714289039777.\n",
      "[I 2023-11-02 14:10:50,730] Trial 50 finished with value: 0.8164052084662556 and parameters: {'learning_rate': 0.0014017773187391144, 'n_estimators': 340, 'num_leaves': 198, 'max_depth': 18, 'min_child_samples': 41, 'subsample': 0.22817883111103643, 'colsample_bytree': 0.8196849872477697, 'reg_alpha': 1.3198023616693758e-08, 'reg_lambda': 9.737371769311238e-05}. Best is trial 31 with value: 0.5637714289039777.\n",
      "[I 2023-11-02 14:10:59,399] Trial 51 finished with value: 0.564257158592267 and parameters: {'learning_rate': 0.013181988499954446, 'n_estimators': 608, 'num_leaves': 39, 'max_depth': 21, 'min_child_samples': 7, 'subsample': 0.13963826779699154, 'colsample_bytree': 0.8820514902519492, 'reg_alpha': 3.5625095823058604e-07, 'reg_lambda': 0.0010561422743169601}. Best is trial 31 with value: 0.5637714289039777.\n",
      "[I 2023-11-02 14:11:17,819] Trial 52 finished with value: 0.5698277099640578 and parameters: {'learning_rate': 0.004597367760866079, 'n_estimators': 690, 'num_leaves': 70, 'max_depth': 28, 'min_child_samples': 13, 'subsample': 0.17572852652109258, 'colsample_bytree': 0.8898477151839841, 'reg_alpha': 4.80703815007712e-08, 'reg_lambda': 0.004458719111743014}. Best is trial 31 with value: 0.5637714289039777.\n",
      "[I 2023-11-02 14:11:20,156] Trial 53 finished with value: 0.5680756995941766 and parameters: {'learning_rate': 0.0205078924640863, 'n_estimators': 536, 'num_leaves': 11, 'max_depth': 22, 'min_child_samples': 3, 'subsample': 0.10048327457705036, 'colsample_bytree': 0.9558608456871941, 'reg_alpha': 3.893013877366663e-07, 'reg_lambda': 0.0013400105276735023}. Best is trial 31 with value: 0.5637714289039777.\n",
      "[I 2023-11-02 14:11:29,728] Trial 54 finished with value: 0.566760701122048 and parameters: {'learning_rate': 0.00860944189819259, 'n_estimators': 570, 'num_leaves': 46, 'max_depth': 14, 'min_child_samples': 19, 'subsample': 0.2070611838897661, 'colsample_bytree': 0.9897645425069251, 'reg_alpha': 1.2077072331729766e-07, 'reg_lambda': 0.0004610979901402396}. Best is trial 31 with value: 0.5637714289039777.\n",
      "[I 2023-11-02 14:11:30,296] Trial 55 finished with value: 0.626393285085062 and parameters: {'learning_rate': 0.03852591934551012, 'n_estimators': 462, 'num_leaves': 2, 'max_depth': 18, 'min_child_samples': 24, 'subsample': 0.14394059706586376, 'colsample_bytree': 0.853147205850379, 'reg_alpha': 2.3199916539292946e-08, 'reg_lambda': 0.00024249271393629793}. Best is trial 31 with value: 0.5637714289039777.\n",
      "[I 2023-11-02 14:11:47,386] Trial 56 finished with value: 0.5887817657637365 and parameters: {'learning_rate': 0.003940236140802912, 'n_estimators': 519, 'num_leaves': 89, 'max_depth': 24, 'min_child_samples': 9, 'subsample': 0.18061915963160047, 'colsample_bytree': 0.9168588194565805, 'reg_alpha': 8.655157179218502e-07, 'reg_lambda': 4.306610861801672e-05}. Best is trial 31 with value: 0.5637714289039777.\n",
      "[I 2023-11-02 14:11:53,890] Trial 57 finished with value: 0.581365826243041 and parameters: {'learning_rate': 0.07868780576495324, 'n_estimators': 399, 'num_leaves': 122, 'max_depth': 21, 'min_child_samples': 61, 'subsample': 0.22010084343231429, 'colsample_bytree': 0.7886564632821178, 'reg_alpha': 6.367271948630669e-08, 'reg_lambda': 0.0033111427470325903}. Best is trial 31 with value: 0.5637714289039777.\n",
      "[I 2023-11-02 14:12:00,896] Trial 58 finished with value: 0.5692010163636532 and parameters: {'learning_rate': 0.01112571746887016, 'n_estimators': 590, 'num_leaves': 30, 'max_depth': 17, 'min_child_samples': 3, 'subsample': 0.12980995105574455, 'colsample_bytree': 0.8893202494420037, 'reg_alpha': 2.1493973704983227e-06, 'reg_lambda': 0.0011568025955074972}. Best is trial 31 with value: 0.5637714289039777.\n",
      "[I 2023-11-02 14:12:18,026] Trial 59 finished with value: 0.6609984420666335 and parameters: {'learning_rate': 0.0016952720815758312, 'n_estimators': 668, 'num_leaves': 69, 'max_depth': 9, 'min_child_samples': 14, 'subsample': 0.2661055827810258, 'colsample_bytree': 0.998293261538397, 'reg_alpha': 2.804893180045251e-07, 'reg_lambda': 0.006654030065982603}. Best is trial 31 with value: 0.5637714289039777.\n",
      "[I 2023-11-02 14:12:22,941] Trial 60 finished with value: 0.5675236310414011 and parameters: {'learning_rate': 0.02819373808710496, 'n_estimators': 186, 'num_leaves': 108, 'max_depth': 13, 'min_child_samples': 35, 'subsample': 0.19545280046286118, 'colsample_bytree': 0.8298273631659365, 'reg_alpha': 1.170622967342358e-08, 'reg_lambda': 0.0002984531500548524}. Best is trial 31 with value: 0.5637714289039777.\n",
      "[I 2023-11-02 14:12:31,811] Trial 61 finished with value: 0.5647200190435542 and parameters: {'learning_rate': 0.016736971673049755, 'n_estimators': 624, 'num_leaves': 39, 'max_depth': 21, 'min_child_samples': 8, 'subsample': 0.15320841026254878, 'colsample_bytree': 0.8745162640254223, 'reg_alpha': 4.3032529447550327e-07, 'reg_lambda': 0.0008742587644892619}. Best is trial 31 with value: 0.5637714289039777.\n",
      "[I 2023-11-02 14:12:35,282] Trial 62 finished with value: 0.5660566290102568 and parameters: {'learning_rate': 0.01859580571921908, 'n_estimators': 552, 'num_leaves': 16, 'max_depth': 22, 'min_child_samples': 11, 'subsample': 0.1341530063903103, 'colsample_bytree': 0.9319181444931905, 'reg_alpha': 2.0583688799748183e-07, 'reg_lambda': 0.0007008512952899522}. Best is trial 31 with value: 0.5637714289039777.\n",
      "[I 2023-11-02 14:12:46,492] Trial 63 finished with value: 0.567546045734979 and parameters: {'learning_rate': 0.006539897334762584, 'n_estimators': 728, 'num_leaves': 37, 'max_depth': 23, 'min_child_samples': 4, 'subsample': 0.16477992929972946, 'colsample_bytree': 0.8530064230341876, 'reg_alpha': 3.613808677851108e-08, 'reg_lambda': 0.002305099128277268}. Best is trial 31 with value: 0.5637714289039777.\n",
      "[I 2023-11-02 14:12:57,818] Trial 64 finished with value: 0.5964489752844071 and parameters: {'learning_rate': 0.18953646640667404, 'n_estimators': 622, 'num_leaves': 56, 'max_depth': 19, 'min_child_samples': 8, 'subsample': 0.20730653609529967, 'colsample_bytree': 0.9724180310478018, 'reg_alpha': 5.009248979063432e-07, 'reg_lambda': 0.0014465580555672194}. Best is trial 31 with value: 0.5637714289039777.\n",
      "[I 2023-11-02 14:13:03,841] Trial 65 finished with value: 0.5773304838989103 and parameters: {'learning_rate': 0.052852828585482604, 'n_estimators': 772, 'num_leaves': 22, 'max_depth': 25, 'min_child_samples': 26, 'subsample': 0.10171386543345709, 'colsample_bytree': 0.8966048532353134, 'reg_alpha': 1.1711749194515879e-06, 'reg_lambda': 0.0003539688454473291}. Best is trial 31 with value: 0.5637714289039777.\n",
      "[I 2023-11-02 14:13:28,695] Trial 66 finished with value: 0.851968671380471 and parameters: {'learning_rate': 0.000768369832007278, 'n_estimators': 473, 'num_leaves': 138, 'max_depth': 15, 'min_child_samples': 1, 'subsample': 0.2451094602375927, 'colsample_bytree': 0.9175519953572099, 'reg_alpha': 8.34196468021014e-08, 'reg_lambda': 0.0001309460736917634}. Best is trial 31 with value: 0.5637714289039777.\n",
      "[I 2023-11-02 14:13:40,944] Trial 67 finished with value: 0.5997969035191452 and parameters: {'learning_rate': 0.0029229151087945154, 'n_estimators': 708, 'num_leaves': 45, 'max_depth': 11, 'min_child_samples': 46, 'subsample': 0.16818717426832955, 'colsample_bytree': 0.8773315626547872, 'reg_alpha': 2.363952527591432e-07, 'reg_lambda': 0.0010491263930624167}. Best is trial 31 with value: 0.5637714289039777.\n",
      "[I 2023-11-02 14:13:47,965] Trial 68 finished with value: 0.5662216783284532 and parameters: {'learning_rate': 0.011815835410707019, 'n_estimators': 593, 'num_leaves': 31, 'max_depth': 21, 'min_child_samples': 21, 'subsample': 0.29769569642615096, 'colsample_bytree': 0.9670374701645668, 'reg_alpha': 7.298510716400055e-05, 'reg_lambda': 0.013661570422422616}. Best is trial 31 with value: 0.5637714289039777.\n",
      "[I 2023-11-02 14:13:52,143] Trial 69 finished with value: 0.5648093872104305 and parameters: {'learning_rate': 0.023756346790576255, 'n_estimators': 892, 'num_leaves': 12, 'max_depth': 20, 'min_child_samples': 17, 'subsample': 0.1250623033494229, 'colsample_bytree': 0.8142593875613243, 'reg_alpha': 5.485228230188292e-08, 'reg_lambda': 0.0005091477050364689}. Best is trial 31 with value: 0.5637714289039777.\n",
      "[I 2023-11-02 14:13:55,083] Trial 70 finished with value: 0.56517428651666 and parameters: {'learning_rate': 0.025934629818480603, 'n_estimators': 886, 'num_leaves': 8, 'max_depth': 20, 'min_child_samples': 17, 'subsample': 0.11903411316701196, 'colsample_bytree': 0.8058090536826705, 'reg_alpha': 5.458212089029887e-08, 'reg_lambda': 0.0004030462827107752}. Best is trial 31 with value: 0.5637714289039777.\n",
      "[I 2023-11-02 14:13:59,122] Trial 71 finished with value: 0.5634315409167969 and parameters: {'learning_rate': 0.02530813115510649, 'n_estimators': 913, 'num_leaves': 10, 'max_depth': 19, 'min_child_samples': 17, 'subsample': 0.14097028050559754, 'colsample_bytree': 0.7851380086506182, 'reg_alpha': 5.2033145261751845e-08, 'reg_lambda': 0.0004966444346585629}. Best is trial 71 with value: 0.5634315409167969.\n",
      "[I 2023-11-02 14:14:03,829] Trial 72 finished with value: 0.5667797739823774 and parameters: {'learning_rate': 0.05354076489051274, 'n_estimators': 918, 'num_leaves': 12, 'max_depth': 16, 'min_child_samples': 12, 'subsample': 0.13678278371047403, 'colsample_bytree': 0.7672409987664274, 'reg_alpha': 1.764777700166825e-08, 'reg_lambda': 0.0006239221706877623}. Best is trial 71 with value: 0.5634315409167969.\n",
      "[I 2023-11-02 14:14:16,164] Trial 73 finished with value: 0.595484471331736 and parameters: {'learning_rate': 0.12166640905280235, 'n_estimators': 896, 'num_leaves': 37, 'max_depth': 20, 'min_child_samples': 16, 'subsample': 0.17315652869787798, 'colsample_bytree': 0.8500555960043904, 'reg_alpha': 1.9191112448923997e-08, 'reg_lambda': 0.00014201841333186295}. Best is trial 71 with value: 0.5634315409167969.\n",
      "[I 2023-11-02 14:14:25,986] Trial 74 finished with value: 0.5674230657892967 and parameters: {'learning_rate': 0.007004339938111299, 'n_estimators': 970, 'num_leaves': 27, 'max_depth': 18, 'min_child_samples': 5, 'subsample': 0.15513605555361767, 'colsample_bytree': 0.8776821685337962, 'reg_alpha': 1.1669424309425793e-07, 'reg_lambda': 7.496313326433169e-05}. Best is trial 71 with value: 0.5634315409167969.\n",
      "[I 2023-11-02 14:14:32,044] Trial 75 finished with value: 0.5666133992935742 and parameters: {'learning_rate': 0.02737512382117238, 'n_estimators': 824, 'num_leaves': 18, 'max_depth': 23, 'min_child_samples': 22, 'subsample': 0.11916788221071317, 'colsample_bytree': 0.9102158488535204, 'reg_alpha': 4.091983201431456e-07, 'reg_lambda': 0.00025771258620767604}. Best is trial 71 with value: 0.5634315409167969.\n",
      "[I 2023-11-02 14:14:33,138] Trial 76 finished with value: 0.5921012682585891 and parameters: {'learning_rate': 0.08057773669040506, 'n_estimators': 868, 'num_leaves': 2, 'max_depth': 19, 'min_child_samples': 9, 'subsample': 0.1985333148165222, 'colsample_bytree': 0.8218417123355233, 'reg_alpha': 4.414404959644204e-08, 'reg_lambda': 0.0008647130553637792}. Best is trial 71 with value: 0.5634315409167969.\n",
      "[I 2023-11-02 14:14:49,144] Trial 77 finished with value: 0.5672126186301952 and parameters: {'learning_rate': 0.014161793395995546, 'n_estimators': 977, 'num_leaves': 42, 'max_depth': 17, 'min_child_samples': 18, 'subsample': 0.21767427572718345, 'colsample_bytree': 0.9324330268773574, 'reg_alpha': 3.005588655897147e-08, 'reg_lambda': 0.0030517224643799895}. Best is trial 71 with value: 0.5634315409167969.\n",
      "[I 2023-11-02 14:14:57,628] Trial 78 finished with value: 0.5728966443529593 and parameters: {'learning_rate': 0.004231067756696452, 'n_estimators': 930, 'num_leaves': 21, 'max_depth': 22, 'min_child_samples': 14, 'subsample': 0.1489591843925123, 'colsample_bytree': 0.78971710428051, 'reg_alpha': 1.0416893950236641e-08, 'reg_lambda': 0.0003343025803866522}. Best is trial 71 with value: 0.5634315409167969.\n",
      "[I 2023-11-02 14:15:11,388] Trial 79 finished with value: 0.5731942057447539 and parameters: {'learning_rate': 0.03478452212262293, 'n_estimators': 796, 'num_leaves': 49, 'max_depth': 21, 'min_child_samples': 7, 'subsample': 0.18728578832147103, 'colsample_bytree': 0.844630660444664, 'reg_alpha': 8.090553961865385e-07, 'reg_lambda': 0.0005393786446090863}. Best is trial 71 with value: 0.5634315409167969.\n",
      "[I 2023-11-02 14:15:18,646] Trial 80 finished with value: 0.5749049872170833 and parameters: {'learning_rate': 0.007632751154746849, 'n_estimators': 509, 'num_leaves': 32, 'max_depth': 25, 'min_child_samples': 78, 'subsample': 0.11730105487008265, 'colsample_bytree': 0.9005992965790979, 'reg_alpha': 1.1316719793095666e-07, 'reg_lambda': 0.00017428494932552086}. Best is trial 71 with value: 0.5634315409167969.\n",
      "[I 2023-11-02 14:15:22,097] Trial 81 finished with value: 0.5645899950203652 and parameters: {'learning_rate': 0.02018909013667027, 'n_estimators': 851, 'num_leaves': 9, 'max_depth': 20, 'min_child_samples': 17, 'subsample': 0.12803422020453223, 'colsample_bytree': 0.8072274039369389, 'reg_alpha': 5.3946453718264306e-08, 'reg_lambda': 0.00040709275909217384}. Best is trial 71 with value: 0.5634315409167969.\n",
      "[I 2023-11-02 14:15:25,314] Trial 82 finished with value: 0.5660460280877524 and parameters: {'learning_rate': 0.018645690004355384, 'n_estimators': 830, 'num_leaves': 9, 'max_depth': 21, 'min_child_samples': 27, 'subsample': 0.16146105681382988, 'colsample_bytree': 0.7251314096880754, 'reg_alpha': 6.126456586425189e-08, 'reg_lambda': 0.0015297382458331898}. Best is trial 71 with value: 0.5634315409167969.\n",
      "[I 2023-11-02 14:15:31,961] Trial 83 finished with value: 0.608165969455348 and parameters: {'learning_rate': 0.21148939629619595, 'n_estimators': 931, 'num_leaves': 19, 'max_depth': 20, 'min_child_samples': 23, 'subsample': 0.1276312992434082, 'colsample_bytree': 0.8604312616750079, 'reg_alpha': 2.0125996788378465e-07, 'reg_lambda': 0.0009779323611400824}. Best is trial 71 with value: 0.5634315409167969.\n",
      "[I 2023-11-02 14:15:37,371] Trial 84 finished with value: 0.5642307513925632 and parameters: {'learning_rate': 0.012632600080370081, 'n_estimators': 538, 'num_leaves': 26, 'max_depth': 19, 'min_child_samples': 11, 'subsample': 0.10272149589599963, 'colsample_bytree': 0.7559980784299264, 'reg_alpha': 2.45843993344105e-08, 'reg_lambda': 0.00010375345982351928}. Best is trial 71 with value: 0.5634315409167969.\n",
      "[I 2023-11-02 14:15:45,888] Trial 85 finished with value: 0.5639135312289517 and parameters: {'learning_rate': 0.01299435646685575, 'n_estimators': 868, 'num_leaves': 25, 'max_depth': 19, 'min_child_samples': 11, 'subsample': 0.10317896622438556, 'colsample_bytree': 0.8061817512107671, 'reg_alpha': 2.5511768403826596e-08, 'reg_lambda': 9.771165422700548e-05}. Best is trial 71 with value: 0.5634315409167969.\n",
      "[I 2023-11-02 14:16:03,719] Trial 86 finished with value: 0.5668537370264445 and parameters: {'learning_rate': 0.009633865742810551, 'n_estimators': 857, 'num_leaves': 59, 'max_depth': 19, 'min_child_samples': 30, 'subsample': 0.10182033524607507, 'colsample_bytree': 0.7657568098268605, 'reg_alpha': 2.0970277930512717e-08, 'reg_lambda': 0.0001081389438506288}. Best is trial 71 with value: 0.5634315409167969.\n",
      "[I 2023-11-02 14:16:11,641] Trial 87 finished with value: 0.6381838149862951 and parameters: {'learning_rate': 0.0020036682988080192, 'n_estimators': 775, 'num_leaves': 26, 'max_depth': 18, 'min_child_samples': 15, 'subsample': 0.12362383321323672, 'colsample_bytree': 0.7998593962745063, 'reg_alpha': 8.001069343028491e-08, 'reg_lambda': 0.000227179912749466}. Best is trial 71 with value: 0.5634315409167969.\n",
      "[I 2023-11-02 14:16:26,037] Trial 88 finished with value: 0.5685260130635337 and parameters: {'learning_rate': 0.00394689926570535, 'n_estimators': 948, 'num_leaves': 39, 'max_depth': 19, 'min_child_samples': 11, 'subsample': 0.18041417146200145, 'colsample_bytree': 0.7394242367301173, 'reg_alpha': 2.8793773842942844e-08, 'reg_lambda': 0.0005220495526759738}. Best is trial 71 with value: 0.5634315409167969.\n",
      "[I 2023-11-02 14:16:28,977] Trial 89 finished with value: 0.5675370720206265 and parameters: {'learning_rate': 0.053040707242803874, 'n_estimators': 904, 'num_leaves': 8, 'max_depth': 16, 'min_child_samples': 18, 'subsample': 0.155865871020266, 'colsample_bytree': 0.8157843622427663, 'reg_alpha': 1.5309322915610623e-07, 'reg_lambda': 7.34778471824638e-05}. Best is trial 71 with value: 0.5634315409167969.\n",
      "[I 2023-11-02 14:17:02,445] Trial 90 finished with value: 0.5718908251952792 and parameters: {'learning_rate': 0.02078413224403849, 'n_estimators': 871, 'num_leaves': 224, 'max_depth': 17, 'min_child_samples': 12, 'subsample': 0.10235995605843295, 'colsample_bytree': 0.6996395695308277, 'reg_alpha': 3.1318068626152894e-07, 'reg_lambda': 0.004259546954194964}. Best is trial 71 with value: 0.5634315409167969.\n",
      "[I 2023-11-02 14:17:12,523] Trial 91 finished with value: 0.563591079028045 and parameters: {'learning_rate': 0.013969181365253516, 'n_estimators': 814, 'num_leaves': 34, 'max_depth': 23, 'min_child_samples': 10, 'subsample': 0.1353648731090769, 'colsample_bytree': 0.8432290532253798, 'reg_alpha': 5.072323512284661e-08, 'reg_lambda': 5.318252615692097e-05}. Best is trial 71 with value: 0.5634315409167969.\n",
      "[I 2023-11-02 14:17:17,679] Trial 92 finished with value: 0.5648278282533287 and parameters: {'learning_rate': 0.03430254885633488, 'n_estimators': 842, 'num_leaves': 16, 'max_depth': 23, 'min_child_samples': 9, 'subsample': 0.13215393277851475, 'colsample_bytree': 0.7807468994208056, 'reg_alpha': 5.455947970727756e-08, 'reg_lambda': 0.0001427685209287909}. Best is trial 71 with value: 0.5634315409167969.\n",
      "[I 2023-11-02 14:17:23,269] Trial 93 finished with value: 0.5627625112483347 and parameters: {'learning_rate': 0.035409667216226834, 'n_estimators': 807, 'num_leaves': 15, 'max_depth': 23, 'min_child_samples': 9, 'subsample': 0.1263394307282521, 'colsample_bytree': 0.78336320263128, 'reg_alpha': 1.6496501155865314e-08, 'reg_lambda': 3.0340280342504213e-05}. Best is trial 93 with value: 0.5627625112483347.\n",
      "[I 2023-11-02 14:17:29,749] Trial 94 finished with value: 0.5922127840746646 and parameters: {'learning_rate': 0.12006039090303412, 'n_estimators': 801, 'num_leaves': 24, 'max_depth': 24, 'min_child_samples': 15, 'subsample': 0.18494141328386995, 'colsample_bytree': 0.8284526459227568, 'reg_alpha': 1.9513779854811586e-08, 'reg_lambda': 2.7656664035422827e-05}. Best is trial 93 with value: 0.5627625112483347.\n",
      "[I 2023-11-02 14:17:39,816] Trial 95 finished with value: 0.5782820951256155 and parameters: {'learning_rate': 0.07976958504839353, 'n_estimators': 814, 'num_leaves': 36, 'max_depth': 20, 'min_child_samples': 4, 'subsample': 0.16180434126515053, 'colsample_bytree': 0.7544861845227796, 'reg_alpha': 1.5888264292721704e-08, 'reg_lambda': 6.334620974788315e-05}. Best is trial 93 with value: 0.5627625112483347.\n",
      "[I 2023-11-02 14:17:44,138] Trial 96 finished with value: 0.5777354999651194 and parameters: {'learning_rate': 0.005471718706881815, 'n_estimators': 764, 'num_leaves': 14, 'max_depth': 21, 'min_child_samples': 11, 'subsample': 0.12001101422912884, 'colsample_bytree': 0.7968416112438519, 'reg_alpha': 2.996643796567694e-08, 'reg_lambda': 0.0007521595816649126}. Best is trial 93 with value: 0.5627625112483347.\n",
      "[I 2023-11-02 14:17:45,531] Trial 97 finished with value: 0.6215198328348478 and parameters: {'learning_rate': 0.008724963507055317, 'n_estimators': 884, 'num_leaves': 3, 'max_depth': 22, 'min_child_samples': 20, 'subsample': 0.23082733383962006, 'colsample_bytree': 0.8424576551054354, 'reg_alpha': 1.0105273223404605e-08, 'reg_lambda': 1.0085553890526295e-05}. Best is trial 93 with value: 0.5627625112483347.\n",
      "[I 2023-11-02 14:18:12,755] Trial 98 finished with value: 0.5821582262102412 and parameters: {'learning_rate': 0.042810063035618885, 'n_estimators': 715, 'num_leaves': 158, 'max_depth': 26, 'min_child_samples': 13, 'subsample': 0.20237494764891878, 'colsample_bytree': 0.7807395169600914, 'reg_alpha': 3.918853094797424e-08, 'reg_lambda': 3.0403150070667356e-05}. Best is trial 93 with value: 0.5627625112483347.\n",
      "[I 2023-11-02 14:18:29,637] Trial 99 finished with value: 0.5671889584802401 and parameters: {'learning_rate': 0.01576799883488, 'n_estimators': 996, 'num_leaves': 46, 'max_depth': 24, 'min_child_samples': 5, 'subsample': 0.14198010128204364, 'colsample_bytree': 0.8083938859713269, 'reg_alpha': 9.898866534665526e-08, 'reg_lambda': 0.00031197894451891845}. Best is trial 93 with value: 0.5627625112483347.\n"
     ]
    }
   ],
   "source": [
    "import optuna\n",
    "\n",
    "def objective(trial):\n",
    "    params = {\n",
    "        \"learning_rate\": trial.suggest_float(\"learning_rate\", 1e-8, 1.0, log=True),\n",
    "        \"n_estimators\": trial.suggest_int(\"n_estimators\", 1, 1000),\n",
    "        \"num_leaves\": trial.suggest_int(\"num_leaves\", 2, 256),\n",
    "        \"max_depth\": trial.suggest_int(\"max_depth\", 1, 32),\n",
    "        \"min_child_samples\": trial.suggest_int(\"min_child_samples\", 1, 100),\n",
    "        \"subsample\": trial.suggest_float(\"subsample\", 0.1, 1.0),\n",
    "        \"colsample_bytree\": trial.suggest_float(\"colsample_bytree\", 0.1, 1.0),\n",
    "        \"reg_alpha\": trial.suggest_float(\"reg_alpha\", 1e-8, 1.0, log=True),\n",
    "        \"reg_lambda\": trial.suggest_float(\"reg_lambda\", 1e-8, 1.0, log=True),\n",
    "        \"random_state\": 42,\n",
    "        \"n_jobs\": -1,\n",
    "    }\n",
    "\n",
    "    lgb_model = lgb.LGBMRegressor(**params)\n",
    "    model = MultiOutputRegressor(lgb_model)\n",
    "    model.fit(X_train, y_train)\n",
    "    y_pred = model.predict(X_val)\n",
    "    score = mean_squared_error(y_val, y_pred, squared=False)\n",
    "    return score\n",
    "\n",
    "study_lgb = optuna.create_study(direction=\"minimize\")\n",
    "study_lgb.optimize(objective, n_trials=100)"
   ]
  },
  {
   "cell_type": "code",
   "execution_count": 18,
   "id": "0665ec90",
   "metadata": {
    "execution": {
     "iopub.execute_input": "2023-11-02T14:18:29.675459Z",
     "iopub.status.busy": "2023-11-02T14:18:29.675029Z",
     "iopub.status.idle": "2023-11-02T14:18:34.135306Z",
     "shell.execute_reply": "2023-11-02T14:18:34.134299Z"
    },
    "papermill": {
     "duration": 4.479535,
     "end_time": "2023-11-02T14:18:34.138366",
     "exception": false,
     "start_time": "2023-11-02T14:18:29.658831",
     "status": "completed"
    },
    "tags": []
   },
   "outputs": [
    {
     "data": {
      "text/plain": [
       "{'content_rmse': 0.6395283759714654,\n",
       " 'wording_rmse': 0.49026515591159103,\n",
       " 'mcrmse': 0.5648967659415283}"
      ]
     },
     "execution_count": 18,
     "metadata": {},
     "output_type": "execute_result"
    }
   ],
   "source": [
    "model = MultiOutputRegressor(lgb.LGBMRegressor(**study_lgb.best_params))\n",
    "model.fit(X_train, y_train)\n",
    "y_pred = model.predict(X_val)\n",
    "eval_pred = (y_pred, y_val)\n",
    "compute_mcrmse(eval_pred)"
   ]
  },
  {
   "cell_type": "code",
   "execution_count": 19,
   "id": "8765bd98",
   "metadata": {
    "execution": {
     "iopub.execute_input": "2023-11-02T14:18:34.170149Z",
     "iopub.status.busy": "2023-11-02T14:18:34.168924Z",
     "iopub.status.idle": "2023-11-02T14:18:34.189837Z",
     "shell.execute_reply": "2023-11-02T14:18:34.188582Z"
    },
    "papermill": {
     "duration": 0.039418,
     "end_time": "2023-11-02T14:18:34.192713",
     "exception": false,
     "start_time": "2023-11-02T14:18:34.153295",
     "status": "completed"
    },
    "tags": []
   },
   "outputs": [
    {
     "data": {
      "text/html": [
       "<div>\n",
       "<style scoped>\n",
       "    .dataframe tbody tr th:only-of-type {\n",
       "        vertical-align: middle;\n",
       "    }\n",
       "\n",
       "    .dataframe tbody tr th {\n",
       "        vertical-align: top;\n",
       "    }\n",
       "\n",
       "    .dataframe thead th {\n",
       "        text-align: right;\n",
       "    }\n",
       "</style>\n",
       "<table border=\"1\" class=\"dataframe\">\n",
       "  <thead>\n",
       "    <tr style=\"text-align: right;\">\n",
       "      <th></th>\n",
       "      <th>student_id</th>\n",
       "      <th>prompt_id</th>\n",
       "      <th>flesch_reading_ease</th>\n",
       "      <th>difficult_words</th>\n",
       "      <th>bigrams_overlap_count</th>\n",
       "      <th>automated_readability_index</th>\n",
       "      <th>coleman_liau_index</th>\n",
       "      <th>linsear_write_formula</th>\n",
       "      <th>gunning_fog</th>\n",
       "      <th>smog_index</th>\n",
       "      <th>word_overlap_count</th>\n",
       "      <th>dale_chall_readability_score</th>\n",
       "      <th>rouge_1</th>\n",
       "      <th>rouge_2</th>\n",
       "      <th>rouge_l</th>\n",
       "    </tr>\n",
       "  </thead>\n",
       "  <tbody>\n",
       "    <tr>\n",
       "      <th>0</th>\n",
       "      <td>000000ffffff</td>\n",
       "      <td>abc123</td>\n",
       "      <td>59.97</td>\n",
       "      <td>1</td>\n",
       "      <td>0</td>\n",
       "      <td>-1.2</td>\n",
       "      <td>-2.38</td>\n",
       "      <td>1.5</td>\n",
       "      <td>14.53</td>\n",
       "      <td>0.0</td>\n",
       "      <td>0</td>\n",
       "      <td>19.58</td>\n",
       "      <td>0.0</td>\n",
       "      <td>0.0</td>\n",
       "      <td>0.0</td>\n",
       "    </tr>\n",
       "    <tr>\n",
       "      <th>1</th>\n",
       "      <td>222222cccccc</td>\n",
       "      <td>abc123</td>\n",
       "      <td>59.97</td>\n",
       "      <td>1</td>\n",
       "      <td>0</td>\n",
       "      <td>-1.2</td>\n",
       "      <td>-2.38</td>\n",
       "      <td>1.5</td>\n",
       "      <td>14.53</td>\n",
       "      <td>0.0</td>\n",
       "      <td>0</td>\n",
       "      <td>19.58</td>\n",
       "      <td>0.0</td>\n",
       "      <td>0.0</td>\n",
       "      <td>0.0</td>\n",
       "    </tr>\n",
       "    <tr>\n",
       "      <th>2</th>\n",
       "      <td>111111eeeeee</td>\n",
       "      <td>def789</td>\n",
       "      <td>59.97</td>\n",
       "      <td>1</td>\n",
       "      <td>0</td>\n",
       "      <td>-1.2</td>\n",
       "      <td>-2.38</td>\n",
       "      <td>1.5</td>\n",
       "      <td>14.53</td>\n",
       "      <td>0.0</td>\n",
       "      <td>0</td>\n",
       "      <td>19.58</td>\n",
       "      <td>0.0</td>\n",
       "      <td>0.0</td>\n",
       "      <td>0.0</td>\n",
       "    </tr>\n",
       "    <tr>\n",
       "      <th>3</th>\n",
       "      <td>333333dddddd</td>\n",
       "      <td>def789</td>\n",
       "      <td>59.97</td>\n",
       "      <td>1</td>\n",
       "      <td>0</td>\n",
       "      <td>-1.2</td>\n",
       "      <td>-2.38</td>\n",
       "      <td>1.5</td>\n",
       "      <td>14.53</td>\n",
       "      <td>0.0</td>\n",
       "      <td>0</td>\n",
       "      <td>19.58</td>\n",
       "      <td>0.0</td>\n",
       "      <td>0.0</td>\n",
       "      <td>0.0</td>\n",
       "    </tr>\n",
       "  </tbody>\n",
       "</table>\n",
       "</div>"
      ],
      "text/plain": [
       "     student_id prompt_id  flesch_reading_ease  difficult_words  \\\n",
       "0  000000ffffff    abc123                59.97                1   \n",
       "1  222222cccccc    abc123                59.97                1   \n",
       "2  111111eeeeee    def789                59.97                1   \n",
       "3  333333dddddd    def789                59.97                1   \n",
       "\n",
       "   bigrams_overlap_count  automated_readability_index  coleman_liau_index  \\\n",
       "0                      0                         -1.2               -2.38   \n",
       "1                      0                         -1.2               -2.38   \n",
       "2                      0                         -1.2               -2.38   \n",
       "3                      0                         -1.2               -2.38   \n",
       "\n",
       "   linsear_write_formula  gunning_fog  smog_index  word_overlap_count  \\\n",
       "0                    1.5        14.53         0.0                   0   \n",
       "1                    1.5        14.53         0.0                   0   \n",
       "2                    1.5        14.53         0.0                   0   \n",
       "3                    1.5        14.53         0.0                   0   \n",
       "\n",
       "   dale_chall_readability_score  rouge_1  rouge_2  rouge_l  \n",
       "0                         19.58      0.0      0.0      0.0  \n",
       "1                         19.58      0.0      0.0      0.0  \n",
       "2                         19.58      0.0      0.0      0.0  \n",
       "3                         19.58      0.0      0.0      0.0  "
      ]
     },
     "execution_count": 19,
     "metadata": {},
     "output_type": "execute_result"
    }
   ],
   "source": [
    "merged_test"
   ]
  },
  {
   "cell_type": "code",
   "execution_count": 20,
   "id": "8e7b1a0c",
   "metadata": {
    "execution": {
     "iopub.execute_input": "2023-11-02T14:18:34.224286Z",
     "iopub.status.busy": "2023-11-02T14:18:34.223768Z",
     "iopub.status.idle": "2023-11-02T14:18:34.238547Z",
     "shell.execute_reply": "2023-11-02T14:18:34.237341Z"
    },
    "papermill": {
     "duration": 0.033922,
     "end_time": "2023-11-02T14:18:34.241453",
     "exception": false,
     "start_time": "2023-11-02T14:18:34.207531",
     "status": "completed"
    },
    "tags": []
   },
   "outputs": [],
   "source": [
    "y_pred_final = model.predict(merged_test.drop([\"student_id\", \"prompt_id\"], axis=1))"
   ]
  },
  {
   "cell_type": "code",
   "execution_count": 21,
   "id": "0ebe0e55",
   "metadata": {
    "execution": {
     "iopub.execute_input": "2023-11-02T14:18:34.272890Z",
     "iopub.status.busy": "2023-11-02T14:18:34.272416Z",
     "iopub.status.idle": "2023-11-02T14:18:34.284858Z",
     "shell.execute_reply": "2023-11-02T14:18:34.283427Z"
    },
    "papermill": {
     "duration": 0.030936,
     "end_time": "2023-11-02T14:18:34.287043",
     "exception": false,
     "start_time": "2023-11-02T14:18:34.256107",
     "status": "completed"
    },
    "tags": []
   },
   "outputs": [
    {
     "data": {
      "text/html": [
       "<div>\n",
       "<style scoped>\n",
       "    .dataframe tbody tr th:only-of-type {\n",
       "        vertical-align: middle;\n",
       "    }\n",
       "\n",
       "    .dataframe tbody tr th {\n",
       "        vertical-align: top;\n",
       "    }\n",
       "\n",
       "    .dataframe thead th {\n",
       "        text-align: right;\n",
       "    }\n",
       "</style>\n",
       "<table border=\"1\" class=\"dataframe\">\n",
       "  <thead>\n",
       "    <tr style=\"text-align: right;\">\n",
       "      <th></th>\n",
       "      <th>wording</th>\n",
       "      <th>content</th>\n",
       "    </tr>\n",
       "  </thead>\n",
       "  <tbody>\n",
       "    <tr>\n",
       "      <th>0</th>\n",
       "      <td>-1.340299</td>\n",
       "      <td>-1.746087</td>\n",
       "    </tr>\n",
       "    <tr>\n",
       "      <th>1</th>\n",
       "      <td>-1.340299</td>\n",
       "      <td>-1.746087</td>\n",
       "    </tr>\n",
       "    <tr>\n",
       "      <th>2</th>\n",
       "      <td>-1.340299</td>\n",
       "      <td>-1.746087</td>\n",
       "    </tr>\n",
       "    <tr>\n",
       "      <th>3</th>\n",
       "      <td>-1.340299</td>\n",
       "      <td>-1.746087</td>\n",
       "    </tr>\n",
       "  </tbody>\n",
       "</table>\n",
       "</div>"
      ],
      "text/plain": [
       "    wording   content\n",
       "0 -1.340299 -1.746087\n",
       "1 -1.340299 -1.746087\n",
       "2 -1.340299 -1.746087\n",
       "3 -1.340299 -1.746087"
      ]
     },
     "execution_count": 21,
     "metadata": {},
     "output_type": "execute_result"
    }
   ],
   "source": [
    "y_pred_final_df = pd.DataFrame(y_pred_final, columns=[\"wording\", \"content\"])\n",
    "y_pred_final_df"
   ]
  },
  {
   "cell_type": "code",
   "execution_count": 22,
   "id": "6100ed73",
   "metadata": {
    "execution": {
     "iopub.execute_input": "2023-11-02T14:18:34.317788Z",
     "iopub.status.busy": "2023-11-02T14:18:34.317351Z",
     "iopub.status.idle": "2023-11-02T14:18:34.324525Z",
     "shell.execute_reply": "2023-11-02T14:18:34.323368Z"
    },
    "papermill": {
     "duration": 0.024965,
     "end_time": "2023-11-02T14:18:34.326631",
     "exception": false,
     "start_time": "2023-11-02T14:18:34.301666",
     "status": "completed"
    },
    "tags": []
   },
   "outputs": [],
   "source": [
    "merged_test_final = merged_test.merge(y_pred_final_df, left_index=True, right_index=True)"
   ]
  },
  {
   "cell_type": "code",
   "execution_count": 23,
   "id": "e32f50b6",
   "metadata": {
    "execution": {
     "iopub.execute_input": "2023-11-02T14:18:34.358051Z",
     "iopub.status.busy": "2023-11-02T14:18:34.357636Z",
     "iopub.status.idle": "2023-11-02T14:18:34.378271Z",
     "shell.execute_reply": "2023-11-02T14:18:34.377496Z"
    },
    "papermill": {
     "duration": 0.039205,
     "end_time": "2023-11-02T14:18:34.380360",
     "exception": false,
     "start_time": "2023-11-02T14:18:34.341155",
     "status": "completed"
    },
    "tags": []
   },
   "outputs": [
    {
     "data": {
      "text/html": [
       "<div>\n",
       "<style scoped>\n",
       "    .dataframe tbody tr th:only-of-type {\n",
       "        vertical-align: middle;\n",
       "    }\n",
       "\n",
       "    .dataframe tbody tr th {\n",
       "        vertical-align: top;\n",
       "    }\n",
       "\n",
       "    .dataframe thead th {\n",
       "        text-align: right;\n",
       "    }\n",
       "</style>\n",
       "<table border=\"1\" class=\"dataframe\">\n",
       "  <thead>\n",
       "    <tr style=\"text-align: right;\">\n",
       "      <th></th>\n",
       "      <th>student_id</th>\n",
       "      <th>prompt_id</th>\n",
       "      <th>flesch_reading_ease</th>\n",
       "      <th>difficult_words</th>\n",
       "      <th>bigrams_overlap_count</th>\n",
       "      <th>automated_readability_index</th>\n",
       "      <th>coleman_liau_index</th>\n",
       "      <th>linsear_write_formula</th>\n",
       "      <th>gunning_fog</th>\n",
       "      <th>smog_index</th>\n",
       "      <th>word_overlap_count</th>\n",
       "      <th>dale_chall_readability_score</th>\n",
       "      <th>rouge_1</th>\n",
       "      <th>rouge_2</th>\n",
       "      <th>rouge_l</th>\n",
       "      <th>wording</th>\n",
       "      <th>content</th>\n",
       "    </tr>\n",
       "  </thead>\n",
       "  <tbody>\n",
       "    <tr>\n",
       "      <th>0</th>\n",
       "      <td>000000ffffff</td>\n",
       "      <td>abc123</td>\n",
       "      <td>59.97</td>\n",
       "      <td>1</td>\n",
       "      <td>0</td>\n",
       "      <td>-1.2</td>\n",
       "      <td>-2.38</td>\n",
       "      <td>1.5</td>\n",
       "      <td>14.53</td>\n",
       "      <td>0.0</td>\n",
       "      <td>0</td>\n",
       "      <td>19.58</td>\n",
       "      <td>0.0</td>\n",
       "      <td>0.0</td>\n",
       "      <td>0.0</td>\n",
       "      <td>-1.340299</td>\n",
       "      <td>-1.746087</td>\n",
       "    </tr>\n",
       "    <tr>\n",
       "      <th>1</th>\n",
       "      <td>222222cccccc</td>\n",
       "      <td>abc123</td>\n",
       "      <td>59.97</td>\n",
       "      <td>1</td>\n",
       "      <td>0</td>\n",
       "      <td>-1.2</td>\n",
       "      <td>-2.38</td>\n",
       "      <td>1.5</td>\n",
       "      <td>14.53</td>\n",
       "      <td>0.0</td>\n",
       "      <td>0</td>\n",
       "      <td>19.58</td>\n",
       "      <td>0.0</td>\n",
       "      <td>0.0</td>\n",
       "      <td>0.0</td>\n",
       "      <td>-1.340299</td>\n",
       "      <td>-1.746087</td>\n",
       "    </tr>\n",
       "    <tr>\n",
       "      <th>2</th>\n",
       "      <td>111111eeeeee</td>\n",
       "      <td>def789</td>\n",
       "      <td>59.97</td>\n",
       "      <td>1</td>\n",
       "      <td>0</td>\n",
       "      <td>-1.2</td>\n",
       "      <td>-2.38</td>\n",
       "      <td>1.5</td>\n",
       "      <td>14.53</td>\n",
       "      <td>0.0</td>\n",
       "      <td>0</td>\n",
       "      <td>19.58</td>\n",
       "      <td>0.0</td>\n",
       "      <td>0.0</td>\n",
       "      <td>0.0</td>\n",
       "      <td>-1.340299</td>\n",
       "      <td>-1.746087</td>\n",
       "    </tr>\n",
       "    <tr>\n",
       "      <th>3</th>\n",
       "      <td>333333dddddd</td>\n",
       "      <td>def789</td>\n",
       "      <td>59.97</td>\n",
       "      <td>1</td>\n",
       "      <td>0</td>\n",
       "      <td>-1.2</td>\n",
       "      <td>-2.38</td>\n",
       "      <td>1.5</td>\n",
       "      <td>14.53</td>\n",
       "      <td>0.0</td>\n",
       "      <td>0</td>\n",
       "      <td>19.58</td>\n",
       "      <td>0.0</td>\n",
       "      <td>0.0</td>\n",
       "      <td>0.0</td>\n",
       "      <td>-1.340299</td>\n",
       "      <td>-1.746087</td>\n",
       "    </tr>\n",
       "  </tbody>\n",
       "</table>\n",
       "</div>"
      ],
      "text/plain": [
       "     student_id prompt_id  flesch_reading_ease  difficult_words  \\\n",
       "0  000000ffffff    abc123                59.97                1   \n",
       "1  222222cccccc    abc123                59.97                1   \n",
       "2  111111eeeeee    def789                59.97                1   \n",
       "3  333333dddddd    def789                59.97                1   \n",
       "\n",
       "   bigrams_overlap_count  automated_readability_index  coleman_liau_index  \\\n",
       "0                      0                         -1.2               -2.38   \n",
       "1                      0                         -1.2               -2.38   \n",
       "2                      0                         -1.2               -2.38   \n",
       "3                      0                         -1.2               -2.38   \n",
       "\n",
       "   linsear_write_formula  gunning_fog  smog_index  word_overlap_count  \\\n",
       "0                    1.5        14.53         0.0                   0   \n",
       "1                    1.5        14.53         0.0                   0   \n",
       "2                    1.5        14.53         0.0                   0   \n",
       "3                    1.5        14.53         0.0                   0   \n",
       "\n",
       "   dale_chall_readability_score  rouge_1  rouge_2  rouge_l   wording   content  \n",
       "0                         19.58      0.0      0.0      0.0 -1.340299 -1.746087  \n",
       "1                         19.58      0.0      0.0      0.0 -1.340299 -1.746087  \n",
       "2                         19.58      0.0      0.0      0.0 -1.340299 -1.746087  \n",
       "3                         19.58      0.0      0.0      0.0 -1.340299 -1.746087  "
      ]
     },
     "execution_count": 23,
     "metadata": {},
     "output_type": "execute_result"
    }
   ],
   "source": [
    "merged_test_final"
   ]
  },
  {
   "cell_type": "code",
   "execution_count": 24,
   "id": "007c09eb",
   "metadata": {
    "execution": {
     "iopub.execute_input": "2023-11-02T14:18:34.412013Z",
     "iopub.status.busy": "2023-11-02T14:18:34.411108Z",
     "iopub.status.idle": "2023-11-02T14:18:34.417883Z",
     "shell.execute_reply": "2023-11-02T14:18:34.417093Z"
    },
    "papermill": {
     "duration": 0.024968,
     "end_time": "2023-11-02T14:18:34.419992",
     "exception": false,
     "start_time": "2023-11-02T14:18:34.395024",
     "status": "completed"
    },
    "tags": []
   },
   "outputs": [],
   "source": [
    "out = merged_test_final[[\"student_id\", \"content\", \"wording\"]]"
   ]
  },
  {
   "cell_type": "code",
   "execution_count": 25,
   "id": "98f048d2",
   "metadata": {
    "execution": {
     "iopub.execute_input": "2023-11-02T14:18:34.452370Z",
     "iopub.status.busy": "2023-11-02T14:18:34.451667Z",
     "iopub.status.idle": "2023-11-02T14:18:34.460205Z",
     "shell.execute_reply": "2023-11-02T14:18:34.459290Z"
    },
    "papermill": {
     "duration": 0.028206,
     "end_time": "2023-11-02T14:18:34.463141",
     "exception": false,
     "start_time": "2023-11-02T14:18:34.434935",
     "status": "completed"
    },
    "tags": []
   },
   "outputs": [],
   "source": [
    "out.to_csv(\"submission.csv\", index=False)"
   ]
  },
  {
   "cell_type": "code",
   "execution_count": null,
   "id": "40b99d46",
   "metadata": {
    "papermill": {
     "duration": 0.014885,
     "end_time": "2023-11-02T14:18:34.493865",
     "exception": false,
     "start_time": "2023-11-02T14:18:34.478980",
     "status": "completed"
    },
    "tags": []
   },
   "outputs": [],
   "source": []
  }
 ],
 "metadata": {
  "kernelspec": {
   "display_name": "Python 3",
   "language": "python",
   "name": "python3"
  },
  "language_info": {
   "codemirror_mode": {
    "name": "ipython",
    "version": 3
   },
   "file_extension": ".py",
   "mimetype": "text/x-python",
   "name": "python",
   "nbconvert_exporter": "python",
   "pygments_lexer": "ipython3",
   "version": "3.10.12"
  },
  "papermill": {
   "default_parameters": {},
   "duration": 1998.740871,
   "end_time": "2023-11-02T14:18:35.837116",
   "environment_variables": {},
   "exception": null,
   "input_path": "__notebook__.ipynb",
   "output_path": "__notebook__.ipynb",
   "parameters": {},
   "start_time": "2023-11-02T13:45:17.096245",
   "version": "2.4.0"
  }
 },
 "nbformat": 4,
 "nbformat_minor": 5
}
