{
 "cells": [
  {
   "cell_type": "markdown",
   "metadata": {},
   "source": [
    "# Random Baseline\n",
    "\n",
    "- Date: 04.10.2023\n",
    "- Maintainer: Jonathan Carona\n"
   ]
  },
  {
   "cell_type": "markdown",
   "metadata": {
    "collapsed": false
   },
   "source": [
    "## Change Log\n",
    "- Date: 005.10.2023\n",
    "- By: Josef Rittiner\n",
    "- Log: Added code for submission to Kaggle"
   ]
  },
  {
   "cell_type": "markdown",
   "metadata": {
    "collapsed": false
   },
   "source": [
    "<b>Objective</b>: Develop a random baseline to predict scores of student summaries."
   ]
  },
  {
   "cell_type": "markdown",
   "metadata": {},
   "source": [
    "## Imports"
   ]
  },
  {
   "cell_type": "code",
   "execution_count": 6,
   "metadata": {},
   "outputs": [],
   "source": [
    "import pandas as pd\n",
    "import numpy as np\n",
    "import os\n",
    "\n",
    "from sklearn.dummy import DummyRegressor\n",
    "from sklearn.model_selection import cross_val_score, ShuffleSplit"
   ]
  },
  {
   "cell_type": "code",
   "execution_count": 7,
   "metadata": {
    "collapsed": false
   },
   "outputs": [],
   "source": [
    "# For submission\n",
    "# path = '/kaggle/input/commonlit-evaluate-student-summaries'\n",
    "\n",
    "# For testing locally\n",
    "path = './kaggle/input/commonlit-evaluate-student-summaries'\n",
    "if os.name == 'nt':\n",
    "    path = f'.{path}'\n",
    "elif os.name == 'posix':\n",
    "    pass"
   ]
  },
  {
   "cell_type": "code",
   "execution_count": 8,
   "metadata": {},
   "outputs": [
    {
     "data": {
      "text/html": [
       "<div>\n",
       "<style scoped>\n",
       "    .dataframe tbody tr th:only-of-type {\n",
       "        vertical-align: middle;\n",
       "    }\n",
       "\n",
       "    .dataframe tbody tr th {\n",
       "        vertical-align: top;\n",
       "    }\n",
       "\n",
       "    .dataframe thead th {\n",
       "        text-align: right;\n",
       "    }\n",
       "</style>\n",
       "<table border=\"1\" class=\"dataframe\">\n",
       "  <thead>\n",
       "    <tr style=\"text-align: right;\">\n",
       "      <th></th>\n",
       "      <th>student_id</th>\n",
       "      <th>prompt_id</th>\n",
       "      <th>text</th>\n",
       "      <th>content</th>\n",
       "      <th>wording</th>\n",
       "    </tr>\n",
       "  </thead>\n",
       "  <tbody>\n",
       "    <tr>\n",
       "      <th>0</th>\n",
       "      <td>8a31b8cc1996</td>\n",
       "      <td>3b9047</td>\n",
       "      <td>In the social pyramid of ancient Egypt the pha...</td>\n",
       "      <td>-0.077267</td>\n",
       "      <td>0.424365</td>\n",
       "    </tr>\n",
       "    <tr>\n",
       "      <th>1</th>\n",
       "      <td>8c9411cfc953</td>\n",
       "      <td>39c16e</td>\n",
       "      <td>Aristotle claims that an ideal tragedy should ...</td>\n",
       "      <td>0.559070</td>\n",
       "      <td>-0.634924</td>\n",
       "    </tr>\n",
       "    <tr>\n",
       "      <th>2</th>\n",
       "      <td>4387107feb4d</td>\n",
       "      <td>3b9047</td>\n",
       "      <td>The ancient Egyptian system of government was ...</td>\n",
       "      <td>1.376083</td>\n",
       "      <td>2.389443</td>\n",
       "    </tr>\n",
       "    <tr>\n",
       "      <th>3</th>\n",
       "      <td>d720eb53c270</td>\n",
       "      <td>ebad26</td>\n",
       "      <td>They put pickle in them to mask the smell of r...</td>\n",
       "      <td>0.297031</td>\n",
       "      <td>-0.168734</td>\n",
       "    </tr>\n",
       "    <tr>\n",
       "      <th>4</th>\n",
       "      <td>e887883b946c</td>\n",
       "      <td>ebad26</td>\n",
       "      <td>\"whenever meat was so spoiled that it could no...</td>\n",
       "      <td>-0.093814</td>\n",
       "      <td>0.503833</td>\n",
       "    </tr>\n",
       "    <tr>\n",
       "      <th>...</th>\n",
       "      <td>...</td>\n",
       "      <td>...</td>\n",
       "      <td>...</td>\n",
       "      <td>...</td>\n",
       "      <td>...</td>\n",
       "    </tr>\n",
       "    <tr>\n",
       "      <th>5727</th>\n",
       "      <td>63bb6f3ad628</td>\n",
       "      <td>39c16e</td>\n",
       "      <td>The ideal tragedy should be complex in plot. T...</td>\n",
       "      <td>-0.974242</td>\n",
       "      <td>-0.751414</td>\n",
       "    </tr>\n",
       "    <tr>\n",
       "      <th>5728</th>\n",
       "      <td>a341aed41e5a</td>\n",
       "      <td>ebad26</td>\n",
       "      <td>In paragraph 2 the text states that \"Jonas had...</td>\n",
       "      <td>0.559070</td>\n",
       "      <td>-0.634924</td>\n",
       "    </tr>\n",
       "    <tr>\n",
       "      <th>5729</th>\n",
       "      <td>52d42283cb1e</td>\n",
       "      <td>814d6b</td>\n",
       "      <td>The third wave developed quickly because stude...</td>\n",
       "      <td>1.344145</td>\n",
       "      <td>0.835238</td>\n",
       "    </tr>\n",
       "    <tr>\n",
       "      <th>5730</th>\n",
       "      <td>2e3df59b996d</td>\n",
       "      <td>39c16e</td>\n",
       "      <td>An ideal tragedy should be complex and should ...</td>\n",
       "      <td>0.873957</td>\n",
       "      <td>0.875453</td>\n",
       "    </tr>\n",
       "    <tr>\n",
       "      <th>5731</th>\n",
       "      <td>3ba16640478a</td>\n",
       "      <td>39c16e</td>\n",
       "      <td>One of the first notions of tragedy Aristo...</td>\n",
       "      <td>0.205683</td>\n",
       "      <td>0.380538</td>\n",
       "    </tr>\n",
       "  </tbody>\n",
       "</table>\n",
       "<p>5732 rows × 5 columns</p>\n",
       "</div>"
      ],
      "text/plain": [
       "        student_id prompt_id  \\\n",
       "0     8a31b8cc1996    3b9047   \n",
       "1     8c9411cfc953    39c16e   \n",
       "2     4387107feb4d    3b9047   \n",
       "3     d720eb53c270    ebad26   \n",
       "4     e887883b946c    ebad26   \n",
       "...            ...       ...   \n",
       "5727  63bb6f3ad628    39c16e   \n",
       "5728  a341aed41e5a    ebad26   \n",
       "5729  52d42283cb1e    814d6b   \n",
       "5730  2e3df59b996d    39c16e   \n",
       "5731  3ba16640478a    39c16e   \n",
       "\n",
       "                                                   text   content   wording  \n",
       "0     In the social pyramid of ancient Egypt the pha... -0.077267  0.424365  \n",
       "1     Aristotle claims that an ideal tragedy should ...  0.559070 -0.634924  \n",
       "2     The ancient Egyptian system of government was ...  1.376083  2.389443  \n",
       "3     They put pickle in them to mask the smell of r...  0.297031 -0.168734  \n",
       "4     \"whenever meat was so spoiled that it could no... -0.093814  0.503833  \n",
       "...                                                 ...       ...       ...  \n",
       "5727  The ideal tragedy should be complex in plot. T... -0.974242 -0.751414  \n",
       "5728  In paragraph 2 the text states that \"Jonas had...  0.559070 -0.634924  \n",
       "5729  The third wave developed quickly because stude...  1.344145  0.835238  \n",
       "5730  An ideal tragedy should be complex and should ...  0.873957  0.875453  \n",
       "5731      One of the first notions of tragedy Aristo...  0.205683  0.380538  \n",
       "\n",
       "[5732 rows x 5 columns]"
      ]
     },
     "execution_count": 8,
     "metadata": {},
     "output_type": "execute_result"
    }
   ],
   "source": [
    "summaries_df = pd.read_csv(f'{path}/summaries_train.csv')\n",
    "summaries_df"
   ]
  },
  {
   "cell_type": "code",
   "execution_count": 9,
   "metadata": {},
   "outputs": [
    {
     "data": {
      "text/html": [
       "<div>\n",
       "<style scoped>\n",
       "    .dataframe tbody tr th:only-of-type {\n",
       "        vertical-align: middle;\n",
       "    }\n",
       "\n",
       "    .dataframe tbody tr th {\n",
       "        vertical-align: top;\n",
       "    }\n",
       "\n",
       "    .dataframe thead th {\n",
       "        text-align: right;\n",
       "    }\n",
       "</style>\n",
       "<table border=\"1\" class=\"dataframe\">\n",
       "  <thead>\n",
       "    <tr style=\"text-align: right;\">\n",
       "      <th></th>\n",
       "      <th>prompt_id</th>\n",
       "      <th>prompt_question</th>\n",
       "      <th>prompt_title</th>\n",
       "      <th>prompt_text</th>\n",
       "    </tr>\n",
       "  </thead>\n",
       "  <tbody>\n",
       "    <tr>\n",
       "      <th>0</th>\n",
       "      <td>39c16e</td>\n",
       "      <td>Summarize at least 3 elements of an ideal trag...</td>\n",
       "      <td>On Tragedy</td>\n",
       "      <td>Chapter 13 \\r\\nAs the sequel to what has alrea...</td>\n",
       "    </tr>\n",
       "    <tr>\n",
       "      <th>1</th>\n",
       "      <td>3b9047</td>\n",
       "      <td>In complete sentences, summarize the structure...</td>\n",
       "      <td>Egyptian Social Structure</td>\n",
       "      <td>Egyptian society was structured like a pyramid...</td>\n",
       "    </tr>\n",
       "    <tr>\n",
       "      <th>2</th>\n",
       "      <td>814d6b</td>\n",
       "      <td>Summarize how the Third Wave developed over su...</td>\n",
       "      <td>The Third Wave</td>\n",
       "      <td>Background \\r\\nThe Third Wave experiment took ...</td>\n",
       "    </tr>\n",
       "    <tr>\n",
       "      <th>3</th>\n",
       "      <td>ebad26</td>\n",
       "      <td>Summarize the various ways the factory would u...</td>\n",
       "      <td>Excerpt from The Jungle</td>\n",
       "      <td>With one member trimming beef in a cannery, an...</td>\n",
       "    </tr>\n",
       "  </tbody>\n",
       "</table>\n",
       "</div>"
      ],
      "text/plain": [
       "  prompt_id                                    prompt_question  \\\n",
       "0    39c16e  Summarize at least 3 elements of an ideal trag...   \n",
       "1    3b9047  In complete sentences, summarize the structure...   \n",
       "2    814d6b  Summarize how the Third Wave developed over su...   \n",
       "3    ebad26  Summarize the various ways the factory would u...   \n",
       "\n",
       "                prompt_title  \\\n",
       "0                 On Tragedy   \n",
       "1  Egyptian Social Structure   \n",
       "2             The Third Wave   \n",
       "3    Excerpt from The Jungle   \n",
       "\n",
       "                                         prompt_text  \n",
       "0  Chapter 13 \\r\\nAs the sequel to what has alrea...  \n",
       "1  Egyptian society was structured like a pyramid...  \n",
       "2  Background \\r\\nThe Third Wave experiment took ...  \n",
       "3  With one member trimming beef in a cannery, an...  "
      ]
     },
     "execution_count": 9,
     "metadata": {},
     "output_type": "execute_result"
    }
   ],
   "source": [
    "prompts_df = pd.read_csv(f'{path}/prompts_train.csv')\n",
    "prompts_df"
   ]
  },
  {
   "cell_type": "markdown",
   "metadata": {},
   "source": [
    "## Implementing a random regressor"
   ]
  },
  {
   "cell_type": "code",
   "execution_count": 10,
   "metadata": {},
   "outputs": [
    {
     "data": {
      "text/plain": [
       "array([-0.00138463, -0.00335314, -0.00063743, -0.00027257, -0.00492638])"
      ]
     },
     "execution_count": 10,
     "metadata": {},
     "output_type": "execute_result"
    }
   ],
   "source": [
    "X = summaries_df.merge(prompts_df, on='prompt_id').drop(columns=['prompt_id', 'wording', 'content'])\n",
    "y = summaries_df[['content', 'wording']]\n",
    "\n",
    "dummy_regr = DummyRegressor(strategy=\"median\")\n",
    "dummy_regr.fit(X, y)\n",
    "\n",
    "cv = ShuffleSplit(n_splits=5, random_state=42)\n",
    "scores = cross_val_score(dummy_regr, X, y, cv=cv)\n",
    "scores"
   ]
  },
  {
   "cell_type": "markdown",
   "metadata": {
    "collapsed": false
   },
   "source": [
    "# Submission"
   ]
  },
  {
   "cell_type": "code",
   "execution_count": 11,
   "metadata": {
    "collapsed": false
   },
   "outputs": [],
   "source": [
    "test_prompts_df = pd.read_csv(f'{path}/prompts_test.csv')\n",
    "test_summaries_df = pd.read_csv(f'{path}/summaries_test.csv')"
   ]
  },
  {
   "cell_type": "code",
   "execution_count": 12,
   "metadata": {
    "collapsed": false
   },
   "outputs": [],
   "source": [
    "X = test_summaries_df.merge(test_prompts_df, on='prompt_id').drop(columns=['prompt_id'])"
   ]
  },
  {
   "cell_type": "code",
   "execution_count": 13,
   "metadata": {
    "collapsed": false
   },
   "outputs": [
    {
     "data": {
      "text/html": [
       "<div>\n",
       "<style scoped>\n",
       "    .dataframe tbody tr th:only-of-type {\n",
       "        vertical-align: middle;\n",
       "    }\n",
       "\n",
       "    .dataframe tbody tr th {\n",
       "        vertical-align: top;\n",
       "    }\n",
       "\n",
       "    .dataframe thead th {\n",
       "        text-align: right;\n",
       "    }\n",
       "</style>\n",
       "<table border=\"1\" class=\"dataframe\">\n",
       "  <thead>\n",
       "    <tr style=\"text-align: right;\">\n",
       "      <th></th>\n",
       "      <th>student_id</th>\n",
       "      <th>content</th>\n",
       "      <th>wording</th>\n",
       "    </tr>\n",
       "  </thead>\n",
       "  <tbody>\n",
       "    <tr>\n",
       "      <th>0</th>\n",
       "      <td>000000ffffff</td>\n",
       "      <td>-0.093814</td>\n",
       "      <td>-0.081769</td>\n",
       "    </tr>\n",
       "    <tr>\n",
       "      <th>1</th>\n",
       "      <td>222222cccccc</td>\n",
       "      <td>-0.093814</td>\n",
       "      <td>-0.081769</td>\n",
       "    </tr>\n",
       "    <tr>\n",
       "      <th>2</th>\n",
       "      <td>111111eeeeee</td>\n",
       "      <td>-0.093814</td>\n",
       "      <td>-0.081769</td>\n",
       "    </tr>\n",
       "    <tr>\n",
       "      <th>3</th>\n",
       "      <td>333333dddddd</td>\n",
       "      <td>-0.093814</td>\n",
       "      <td>-0.081769</td>\n",
       "    </tr>\n",
       "  </tbody>\n",
       "</table>\n",
       "</div>"
      ],
      "text/plain": [
       "     student_id   content   wording\n",
       "0  000000ffffff -0.093814 -0.081769\n",
       "1  222222cccccc -0.093814 -0.081769\n",
       "2  111111eeeeee -0.093814 -0.081769\n",
       "3  333333dddddd -0.093814 -0.081769"
      ]
     },
     "metadata": {},
     "output_type": "display_data"
    }
   ],
   "source": [
    "predictions = dummy_regr.predict(X)\n",
    "predictions_df = pd.DataFrame(predictions, columns=[\"content\", \"wording\"])\n",
    "predictions_df = pd.concat([X[\"student_id\"], predictions_df], axis=1)\n",
    "predictions_df.to_csv('submission.csv', index=False)\n",
    "display(pd.read_csv('submission.csv'))"
   ]
  },
  {
   "cell_type": "code",
   "execution_count": null,
   "metadata": {
    "collapsed": false
   },
   "outputs": [],
   "source": []
  }
 ],
 "metadata": {
  "kernelspec": {
   "display_name": "AICH",
   "language": "python",
   "name": "python3"
  },
  "language_info": {
   "codemirror_mode": {
    "name": "ipython",
    "version": 3
   },
   "file_extension": ".py",
   "mimetype": "text/x-python",
   "name": "python",
   "nbconvert_exporter": "python",
   "pygments_lexer": "ipython3",
   "version": "3.11.5"
  },
  "orig_nbformat": 4
 },
 "nbformat": 4,
 "nbformat_minor": 2
}
