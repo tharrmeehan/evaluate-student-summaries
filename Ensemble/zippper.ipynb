{
 "cells": [
  {
   "cell_type": "code",
   "execution_count": 1,
   "id": "27d94c03-0b2e-4fea-9ccb-f83d5c04e578",
   "metadata": {},
   "outputs": [
    {
     "name": "stdout",
     "output_type": "stream",
     "text": [
      "['rouge', 'textstat']\n"
     ]
    }
   ],
   "source": [
    "import os\n",
    "import shutil\n",
    "path='./packages'\n",
    "print(os.listdir(path))\n",
    "# shutil.rmtree(path)"
   ]
  },
  {
   "cell_type": "code",
   "execution_count": 2,
   "id": "1e34b327-2bd7-4807-bb47-6fc08441ab40",
   "metadata": {},
   "outputs": [],
   "source": [
    "!pip download textstat -d ./packages/textstat/ --quiet\n",
    "!pip download rouge -d ./packages/rouge/ --quiet"
   ]
  },
  {
   "cell_type": "code",
   "execution_count": 5,
   "outputs": [],
   "source": [
    "import os\n",
    "from zipfile import ZipFile\n",
    "\n",
    "dirNames = ['./packages/', './models/', './tokenizers/', './modules']\n",
    "zipNames = ['packages.zip', 'models.zip', 'tokenizers.zip', 'modules.zip']\n",
    "dirSave = './ESS_Project_Kaggle_Dataset/'"
   ],
   "metadata": {
    "collapsed": false
   }
  },
  {
   "cell_type": "code",
   "execution_count": 6,
   "id": "a5753296-6caa-441d-bb0a-99c4445b4d60",
   "metadata": {},
   "outputs": [],
   "source": [
    "for dirName, zipName in zip(dirNames, zipNames):\n",
    "    # Create a ZipFile Object\n",
    "    zipName = dirSave+zipName\n",
    "    with ZipFile(zipName, 'w') as zipObj:\n",
    "        # Iterate over all the files in the directory\n",
    "        for folderName, subfolders, filenames in os.walk(dirName):\n",
    "            for filename in filenames:\n",
    "                # Create complete filepath of the file in the directory\n",
    "                filePath = os.path.join(folderName, filename)\n",
    "                # Add the file to the zip without including the directory structure\n",
    "                zipObj.write(filePath, arcname=os.path.relpath(filePath, dirName))"
   ]
  },
  {
   "cell_type": "code",
   "execution_count": null,
   "outputs": [],
   "source": [],
   "metadata": {
    "collapsed": false
   }
  }
 ],
 "metadata": {
  "kernelspec": {
   "display_name": "Python 3 (ipykernel)",
   "language": "python",
   "name": "python3"
  },
  "language_info": {
   "codemirror_mode": {
    "name": "ipython",
    "version": 3
   },
   "file_extension": ".py",
   "mimetype": "text/x-python",
   "name": "python",
   "nbconvert_exporter": "python",
   "pygments_lexer": "ipython3",
   "version": "3.11.5"
  }
 },
 "nbformat": 4,
 "nbformat_minor": 5
}
