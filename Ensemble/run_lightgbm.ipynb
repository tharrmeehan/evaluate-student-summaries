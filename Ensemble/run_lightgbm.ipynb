{
 "cells": [
  {
   "cell_type": "code",
   "execution_count": null,
   "outputs": [],
   "source": [
    "import torch\n",
    "\n",
    "from AIOLightGBM import AIO\n",
    "import pandas as pd"
   ],
   "metadata": {
    "collapsed": false
   }
  },
  {
   "cell_type": "code",
   "execution_count": null,
   "outputs": [],
   "source": [
    "#prompts_train = pd.read_csv('data/prompts_train.csv')\n",
    "#prompts_test = pd.read_csv('data/prompts_test.csv')\n",
    "\n",
    "#summaries_train = pd.read_csv('data/summaries_train.csv')\n",
    "#summaries_test = pd.read_csv('data/summaries_test.csv')\n",
    "\n",
    "# merged_train = pd.merge(prompts_train, summaries_train, on='prompt_id')\n",
    "# merged_test = pd.merge(prompts_test, summaries_test, on='prompt_id')"
   ],
   "metadata": {
    "collapsed": false,
    "ExecuteTime": {
     "end_time": "2023-12-04T14:13:13.423090100Z",
     "start_time": "2023-12-04T14:13:13.316647700Z"
    }
   },
   "id": "3a7f36732bc1460f"
  },
  {
   "cell_type": "markdown",
   "source": [
    "If using premerged training and test datasets use this code, else use the code above to merge the datasets (this is required for the final submission)"
   ],
   "metadata": {
    "collapsed": false
   },
   "id": "1fe38872a830de53"
  },
  {
   "cell_type": "code",
   "execution_count": null,
   "outputs": [],
   "source": [
    "merged_train = pd.read_csv('data/merged_train.csv')\n",
    "merged_test = pd.read_csv('data/merged_test.csv')"
   ],
   "metadata": {
    "collapsed": false,
    "ExecuteTime": {
     "end_time": "2023-12-04T14:13:16.014640Z",
     "start_time": "2023-12-04T14:13:15.705762800Z"
    }
   },
   "id": "a81714d7a4cdd889"
  },
  {
   "cell_type": "markdown",
   "source": [
    "All in one class for preprocessing, hyperparameter tuning and model training which outputs a prediction dataframe"
   ],
   "metadata": {
    "collapsed": false
   },
   "id": "b63593968a13e9e8"
  },
  {
   "cell_type": "code",
   "execution_count": null,
   "outputs": [],
   "source": [
    "lgbm = AIO(merged_train, merged_test)\n",
    "predictions = lgbm.run()"
   ],
   "metadata": {
    "collapsed": false,
    "ExecuteTime": {
     "end_time": "2023-12-04T14:17:36.312909400Z",
     "start_time": "2023-12-04T14:17:29.280883300Z"
    }
   },
   "id": "318a9d5772594025"
  },
  {
   "cell_type": "code",
   "execution_count": null,
   "outputs": [],
   "source": [
    "predictions"
   ],
   "metadata": {
    "collapsed": false,
    "ExecuteTime": {
     "end_time": "2023-12-04T13:58:54.820180200Z",
     "start_time": "2023-12-04T13:58:54.771856200Z"
    }
   },
   "id": "edb408d185daf48f"
  },
  {
   "cell_type": "code",
   "execution_count": null,
   "outputs": [],
   "source": [],
   "metadata": {
    "collapsed": false
   }
  }
 ],
 "metadata": {
  "kernelspec": {
   "display_name": "Python 3",
   "language": "python",
   "name": "python3"
  },
  "language_info": {
   "codemirror_mode": {
    "name": "ipython",
    "version": 2
   },
   "file_extension": ".py",
   "mimetype": "text/x-python",
   "name": "python",
   "nbconvert_exporter": "python",
   "pygments_lexer": "ipython2",
   "version": "2.7.6"
  }
 },
 "nbformat": 4,
 "nbformat_minor": 5
}
