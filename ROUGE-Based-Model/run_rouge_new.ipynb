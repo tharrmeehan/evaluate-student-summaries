{
 "cells": [
  {
   "cell_type": "markdown",
   "metadata": {},
   "source": [
    "# Running ROUGE-Based Model\n",
    "This Notebook serves to run our ROUGE-Based models.\n",
    "All models can be found under `models`."
   ]
  },
  {
   "cell_type": "markdown",
   "metadata": {},
   "source": [
    "## Imports and libraries"
   ]
  },
  {
   "cell_type": "code",
   "execution_count": 1,
   "metadata": {},
   "outputs": [],
   "source": [
    "import pandas as pd\n",
    "import torch\n",
    "from rouge_score import *\n",
    "from ROUGE_Model_Loader import ROUGEModelLoader\n",
    "from tqdm.notebook import tqdm"
   ]
  },
  {
   "cell_type": "markdown",
   "metadata": {},
   "source": [
    "Below is our train data merged with prompts"
   ]
  },
  {
   "cell_type": "code",
   "execution_count": 2,
   "metadata": {},
   "outputs": [
    {
     "data": {
      "text/plain": "     student_id prompt_id                                               text  \\\n0  8a31b8cc1996    3b9047  In the social pyramid of ancient Egypt the pha...   \n1  4387107feb4d    3b9047  The ancient Egyptian system of government was ...   \n2  3b784d0a5c8f    3b9047  Nobles were the only ont that could hold gover...   \n3  1b2ff4d4edd9    3b9047  They were many different social classes. The p...   \n4  108049c01946    3b9047  The ancient Egyptian system of goverment is in...   \n\n    content   wording                                    prompt_question  \\\n0 -0.077267  0.424365  In complete sentences, summarize the structure...   \n1  1.376083  2.389443  In complete sentences, summarize the structure...   \n2  0.467722 -0.085653  In complete sentences, summarize the structure...   \n3 -0.012957 -0.409480  In complete sentences, summarize the structure...   \n4  2.204640 -0.645344  In complete sentences, summarize the structure...   \n\n                prompt_title  \\\n0  Egyptian Social Structure   \n1  Egyptian Social Structure   \n2  Egyptian Social Structure   \n3  Egyptian Social Structure   \n4  Egyptian Social Structure   \n\n                                         prompt_text  \n0  Egyptian society was structured like a pyramid...  \n1  Egyptian society was structured like a pyramid...  \n2  Egyptian society was structured like a pyramid...  \n3  Egyptian society was structured like a pyramid...  \n4  Egyptian society was structured like a pyramid...  ",
      "text/html": "<div>\n<style scoped>\n    .dataframe tbody tr th:only-of-type {\n        vertical-align: middle;\n    }\n\n    .dataframe tbody tr th {\n        vertical-align: top;\n    }\n\n    .dataframe thead th {\n        text-align: right;\n    }\n</style>\n<table border=\"1\" class=\"dataframe\">\n  <thead>\n    <tr style=\"text-align: right;\">\n      <th></th>\n      <th>student_id</th>\n      <th>prompt_id</th>\n      <th>text</th>\n      <th>content</th>\n      <th>wording</th>\n      <th>prompt_question</th>\n      <th>prompt_title</th>\n      <th>prompt_text</th>\n    </tr>\n  </thead>\n  <tbody>\n    <tr>\n      <th>0</th>\n      <td>8a31b8cc1996</td>\n      <td>3b9047</td>\n      <td>In the social pyramid of ancient Egypt the pha...</td>\n      <td>-0.077267</td>\n      <td>0.424365</td>\n      <td>In complete sentences, summarize the structure...</td>\n      <td>Egyptian Social Structure</td>\n      <td>Egyptian society was structured like a pyramid...</td>\n    </tr>\n    <tr>\n      <th>1</th>\n      <td>4387107feb4d</td>\n      <td>3b9047</td>\n      <td>The ancient Egyptian system of government was ...</td>\n      <td>1.376083</td>\n      <td>2.389443</td>\n      <td>In complete sentences, summarize the structure...</td>\n      <td>Egyptian Social Structure</td>\n      <td>Egyptian society was structured like a pyramid...</td>\n    </tr>\n    <tr>\n      <th>2</th>\n      <td>3b784d0a5c8f</td>\n      <td>3b9047</td>\n      <td>Nobles were the only ont that could hold gover...</td>\n      <td>0.467722</td>\n      <td>-0.085653</td>\n      <td>In complete sentences, summarize the structure...</td>\n      <td>Egyptian Social Structure</td>\n      <td>Egyptian society was structured like a pyramid...</td>\n    </tr>\n    <tr>\n      <th>3</th>\n      <td>1b2ff4d4edd9</td>\n      <td>3b9047</td>\n      <td>They were many different social classes. The p...</td>\n      <td>-0.012957</td>\n      <td>-0.409480</td>\n      <td>In complete sentences, summarize the structure...</td>\n      <td>Egyptian Social Structure</td>\n      <td>Egyptian society was structured like a pyramid...</td>\n    </tr>\n    <tr>\n      <th>4</th>\n      <td>108049c01946</td>\n      <td>3b9047</td>\n      <td>The ancient Egyptian system of goverment is in...</td>\n      <td>2.204640</td>\n      <td>-0.645344</td>\n      <td>In complete sentences, summarize the structure...</td>\n      <td>Egyptian Social Structure</td>\n      <td>Egyptian society was structured like a pyramid...</td>\n    </tr>\n  </tbody>\n</table>\n</div>"
     },
     "execution_count": 2,
     "metadata": {},
     "output_type": "execute_result"
    }
   ],
   "source": [
    "data = pd.read_csv('./data/merged.csv')\n",
    "data.head()"
   ]
  },
  {
   "cell_type": "markdown",
   "metadata": {},
   "source": [
    "## Selecting a Model"
   ]
  },
  {
   "cell_type": "code",
   "execution_count": 3,
   "metadata": {},
   "outputs": [
    {
     "data": {
      "text/plain": "<All keys matched successfully>"
     },
     "execution_count": 3,
     "metadata": {},
     "output_type": "execute_result"
    }
   ],
   "source": [
    "# Replace the parameters to specify the model\n",
    "target_score = 'both'\n",
    "hidden_dim = 64\n",
    "epochs = 10\n",
    "lr = 0.01\n",
    "\n",
    "ROUGE_MODEL_PATH = f'./models/rouge_based_models/ROUGE_Based_Model_{target_score}_{hidden_dim}_{epochs}_{lr}.pt'\n",
    "\n",
    "model_loader = ROUGEModelLoader(data, hidden_dim, target_score)\n",
    "#print(model_loader.train(epochs, lr)) # load or train model\n",
    "model = model_loader.model\n",
    "model.load_state_dict(torch.load(ROUGE_MODEL_PATH)) # load or train model"
   ]
  },
  {
   "cell_type": "markdown",
   "metadata": {},
   "source": [
    "## Running the ROUGE-Based Model for a single data point"
   ]
  },
  {
   "cell_type": "code",
   "execution_count": 4,
   "metadata": {},
   "outputs": [
    {
     "data": {
      "text/plain": "tensor([1.0046, 1.5386], grad_fn=<ViewBackward0>)"
     },
     "execution_count": 4,
     "metadata": {},
     "output_type": "execute_result"
    }
   ],
   "source": [
    "row = data.iloc[0]\n",
    "output = model(row.text, row.prompt_text)\n",
    "output"
   ]
  },
  {
   "cell_type": "markdown",
   "metadata": {},
   "source": [
    "## Running the transformer on pandas frame\n",
    "Adapt the code for your needs"
   ]
  },
  {
   "cell_type": "code",
   "execution_count": 5,
   "metadata": {},
   "outputs": [
    {
     "data": {
      "text/plain": "  0%|          | 0/5 [00:00<?, ?it/s]",
      "application/vnd.jupyter.widget-view+json": {
       "version_major": 2,
       "version_minor": 0,
       "model_id": "ceece1b15f034d5dbc551a22c37f4e4a"
      }
     },
     "metadata": {},
     "output_type": "display_data"
    },
    {
     "data": {
      "text/plain": "    content   wording\n0  1.004646  1.538599\n1  1.181845  1.664008\n2  1.097804  1.124133\n3  1.030681  1.858219\n4  1.469000  1.188908",
      "text/html": "<div>\n<style scoped>\n    .dataframe tbody tr th:only-of-type {\n        vertical-align: middle;\n    }\n\n    .dataframe tbody tr th {\n        vertical-align: top;\n    }\n\n    .dataframe thead th {\n        text-align: right;\n    }\n</style>\n<table border=\"1\" class=\"dataframe\">\n  <thead>\n    <tr style=\"text-align: right;\">\n      <th></th>\n      <th>content</th>\n      <th>wording</th>\n    </tr>\n  </thead>\n  <tbody>\n    <tr>\n      <th>0</th>\n      <td>1.004646</td>\n      <td>1.538599</td>\n    </tr>\n    <tr>\n      <th>1</th>\n      <td>1.181845</td>\n      <td>1.664008</td>\n    </tr>\n    <tr>\n      <th>2</th>\n      <td>1.097804</td>\n      <td>1.124133</td>\n    </tr>\n    <tr>\n      <th>3</th>\n      <td>1.030681</td>\n      <td>1.858219</td>\n    </tr>\n    <tr>\n      <th>4</th>\n      <td>1.469000</td>\n      <td>1.188908</td>\n    </tr>\n  </tbody>\n</table>\n</div>"
     },
     "execution_count": 5,
     "metadata": {},
     "output_type": "execute_result"
    }
   ],
   "source": [
    "content_preds = []\n",
    "wording_preds = []\n",
    "\n",
    "# Replace data for your own data. Here we use the first 5 rows from the merged.csv\n",
    "for index, row in tqdm(data[:5].iterrows(), total=data[:5].shape[0]):\n",
    "    outputs = model(row.text, row.prompt_text)\n",
    "\n",
    "    if target_score in ('content', 'both'):\n",
    "        content_preds.append(outputs[0].item())\n",
    "    if target_score == 'both':\n",
    "        wording_preds.append(outputs[1].item())\n",
    "    elif target_score == 'wording':\n",
    "        wording_preds.append(outputs[0].item())\n",
    "\n",
    "preds = {}\n",
    "if target_score in ('content', 'both'):\n",
    "    preds |= {'content': content_preds}\n",
    "if target_score in ('wording', 'both'):\n",
    "    preds |= {'wording': wording_preds}\n",
    "\n",
    "submission_df = pd.DataFrame(preds)\n",
    "submission_df.head()"
   ]
  }
 ],
 "metadata": {
  "kernelspec": {
   "display_name": "AICH",
   "language": "python",
   "name": "python3"
  },
  "language_info": {
   "codemirror_mode": {
    "name": "ipython",
    "version": 3
   },
   "file_extension": ".py",
   "mimetype": "text/x-python",
   "name": "python",
   "nbconvert_exporter": "python",
   "pygments_lexer": "ipython3",
   "version": "3.11.5"
  },
  "orig_nbformat": 4
 },
 "nbformat": 4,
 "nbformat_minor": 2
}
